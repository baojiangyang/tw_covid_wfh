{
 "cells": [
  {
   "cell_type": "code",
   "execution_count": 72,
   "metadata": {},
   "outputs": [],
   "source": [
    "## INIT\n",
    "API_KEY = '1EfZQhitx7xPfHz25VCLpfjtR'\n",
    "API_SECRET_KEY = '5GZZcn5EFinqTggFeZKH3ObuOp019vYwPxNTqNvyZM78b5VIkh'\n",
    "DEV_ENVIRONMENT_LABEL = 'covidwfh'\n",
    "API_SCOPE = '30day'  # 'fullarchive' for full archive, '30day' for last 31 days\n",
    "\n"
   ]
  },
  {
   "cell_type": "code",
   "execution_count": 73,
   "metadata": {},
   "outputs": [],
   "source": [
    "import yaml\n",
    "config = dict(\n",
    "    search_tweets_api=dict(\n",
    "        account_type='premium',\n",
    "        endpoint=f\"https://api.twitter.com/1.1/tweets/search/{API_SCOPE}/{DEV_ENVIRONMENT_LABEL}.json\",\n",
    "        consumer_key=API_KEY,\n",
    "        consumer_secret=API_SECRET_KEY\n",
    "    )\n",
    ")\n",
    "\n",
    "with open('twitter_keys.yaml', 'w') as config_file:\n",
    "    yaml.dump(config, config_file, default_flow_style=False)\n"
   ]
  },
  {
   "cell_type": "markdown",
   "metadata": {},
   "source": [
    "### get counts by day on query"
   ]
  },
  {
   "cell_type": "code",
   "execution_count": 74,
   "metadata": {},
   "outputs": [],
   "source": [
    "RESULTS_PER_CALL = 500  # 100 for sandbox, 500 for paid tiers\n",
    "TO_DATE = '2020-05-31' # format YYYY-MM-DD HH:MM (hour and minutes optional)\n",
    "FROM_DATE = '2020-05-05'  # format YYYY-MM-DD HH:MM (hour and minutes optional)\n",
    "\n",
    "MAX_RESULTS = 500  # Number of Tweets you want to collect\n",
    "\n",
    "# Script prints an update to the CLI every time it collected another X Tweets\n",
    "PRINT_AFTER_X = 1000"
   ]
  },
  {
   "cell_type": "code",
   "execution_count": 75,
   "metadata": {},
   "outputs": [],
   "source": [
    "SEARCH_QUERY = 'wfh lang:en profile_country:\"US\" -is:retweet'"
   ]
  },
  {
   "cell_type": "code",
   "execution_count": 76,
   "metadata": {},
   "outputs": [
    {
     "name": "stderr",
     "output_type": "stream",
     "text": [
      "Grabbing bearer token from OAUTH\n"
     ]
    },
    {
     "name": "stdout",
     "output_type": "stream",
     "text": [
      "{\"query\":\"wfh lang:en profile_country:\\\"US\\\" -is:retweet\",\"toDate\":\"202005310000\",\"fromDate\":\"202005050000\",\"bucket\":\"day\"}\n"
     ]
    }
   ],
   "source": [
    "import json\n",
    "from searchtweets import load_credentials, gen_rule_payload, ResultStream\n",
    "\n",
    "premium_search_args = load_credentials(\"twitter_keys.yaml\",\n",
    "                                       yaml_key=\"search_tweets_api\",\n",
    "                                       env_overwrite=False)\n",
    "\n",
    "\n",
    "\n",
    "rule = gen_rule_payload(SEARCH_QUERY,\n",
    "                        from_date=FROM_DATE,\n",
    "                        to_date=TO_DATE,\n",
    "                        count_bucket=\"day\",\n",
    "                        results_per_call=500)\n",
    "print(rule)"
   ]
  },
  {
   "cell_type": "code",
   "execution_count": 77,
   "metadata": {},
   "outputs": [],
   "source": [
    "counts = collect_results(rule, max_results=500\n",
    "                         ,result_stream_args=premium_search_args\n",
    "                        )\n"
   ]
  },
  {
   "cell_type": "code",
   "execution_count": 78,
   "metadata": {},
   "outputs": [
    {
     "name": "stdout",
     "output_type": "stream",
     "text": [
      "{'timePeriod': '202005050000', 'count': 2321}\n",
      "{'timePeriod': '202005060000', 'count': 2392}\n",
      "{'timePeriod': '202005070000', 'count': 2128}\n",
      "{'timePeriod': '202005080000', 'count': 2115}\n",
      "{'timePeriod': '202005090000', 'count': 778}\n",
      "{'timePeriod': '202005100000', 'count': 576}\n",
      "{'timePeriod': '202005110000', 'count': 1869}\n",
      "{'timePeriod': '202005120000', 'count': 2861}\n",
      "{'timePeriod': '202005130000', 'count': 3176}\n",
      "{'timePeriod': '202005140000', 'count': 2518}\n",
      "{'timePeriod': '202005150000', 'count': 2383}\n",
      "{'timePeriod': '202005160000', 'count': 895}\n",
      "{'timePeriod': '202005170000', 'count': 730}\n",
      "{'timePeriod': '202005180000', 'count': 2062}\n",
      "{'timePeriod': '202005190000', 'count': 2199}\n",
      "{'timePeriod': '202005200000', 'count': 2106}\n",
      "{'timePeriod': '202005210000', 'count': 2861}\n",
      "{'timePeriod': '202005220000', 'count': 2694}\n",
      "{'timePeriod': '202005230000', 'count': 933}\n",
      "{'timePeriod': '202005240000', 'count': 692}\n",
      "{'timePeriod': '202005250000', 'count': 759}\n",
      "{'timePeriod': '202005260000', 'count': 1662}\n",
      "{'timePeriod': '202005270000', 'count': 2001}\n",
      "{'timePeriod': '202005280000', 'count': 1837}\n",
      "{'timePeriod': '202005290000', 'count': 1569}\n",
      "{'timePeriod': '202005300000', 'count': 528}\n"
     ]
    }
   ],
   "source": [
    "[print(c) for c in counts];"
   ]
  },
  {
   "cell_type": "code",
   "execution_count": 64,
   "metadata": {},
   "outputs": [
    {
     "data": {
      "text/html": [
       "<div>\n",
       "<style scoped>\n",
       "    .dataframe tbody tr th:only-of-type {\n",
       "        vertical-align: middle;\n",
       "    }\n",
       "\n",
       "    .dataframe tbody tr th {\n",
       "        vertical-align: top;\n",
       "    }\n",
       "\n",
       "    .dataframe thead th {\n",
       "        text-align: right;\n",
       "    }\n",
       "</style>\n",
       "<table border=\"1\" class=\"dataframe\">\n",
       "  <thead>\n",
       "    <tr style=\"text-align: right;\">\n",
       "      <th></th>\n",
       "      <th>timePeriod</th>\n",
       "      <th>count</th>\n",
       "    </tr>\n",
       "  </thead>\n",
       "  <tbody>\n",
       "    <tr>\n",
       "      <th>0</th>\n",
       "      <td>202004280000</td>\n",
       "      <td>3858</td>\n",
       "    </tr>\n",
       "    <tr>\n",
       "      <th>1</th>\n",
       "      <td>202004290000</td>\n",
       "      <td>3760</td>\n",
       "    </tr>\n",
       "    <tr>\n",
       "      <th>2</th>\n",
       "      <td>202004300000</td>\n",
       "      <td>3511</td>\n",
       "    </tr>\n",
       "    <tr>\n",
       "      <th>3</th>\n",
       "      <td>202005010000</td>\n",
       "      <td>3537</td>\n",
       "    </tr>\n",
       "    <tr>\n",
       "      <th>4</th>\n",
       "      <td>202005020000</td>\n",
       "      <td>1470</td>\n",
       "    </tr>\n",
       "    <tr>\n",
       "      <th>5</th>\n",
       "      <td>202005030000</td>\n",
       "      <td>1150</td>\n",
       "    </tr>\n",
       "    <tr>\n",
       "      <th>6</th>\n",
       "      <td>202005040000</td>\n",
       "      <td>2637</td>\n",
       "    </tr>\n",
       "    <tr>\n",
       "      <th>7</th>\n",
       "      <td>202005050000</td>\n",
       "      <td>3160</td>\n",
       "    </tr>\n",
       "    <tr>\n",
       "      <th>8</th>\n",
       "      <td>202005060000</td>\n",
       "      <td>3275</td>\n",
       "    </tr>\n",
       "    <tr>\n",
       "      <th>9</th>\n",
       "      <td>202005070000</td>\n",
       "      <td>3086</td>\n",
       "    </tr>\n",
       "  </tbody>\n",
       "</table>\n",
       "</div>"
      ],
      "text/plain": [
       "     timePeriod  count\n",
       "0  202004280000   3858\n",
       "1  202004290000   3760\n",
       "2  202004300000   3511\n",
       "3  202005010000   3537\n",
       "4  202005020000   1470\n",
       "5  202005030000   1150\n",
       "6  202005040000   2637\n",
       "7  202005050000   3160\n",
       "8  202005060000   3275\n",
       "9  202005070000   3086"
      ]
     },
     "execution_count": 64,
     "metadata": {},
     "output_type": "execute_result"
    }
   ],
   "source": [
    "import pandas as pd\n",
    "df = pd.DataFrame.from_dict(counts, orient='columns')\n",
    "df.head(10)"
   ]
  },
  {
   "cell_type": "code",
   "execution_count": 65,
   "metadata": {},
   "outputs": [],
   "source": [
    "df.to_csv('wfh_counts.csv')"
   ]
  },
  {
   "cell_type": "markdown",
   "metadata": {},
   "source": [
    "### search historical tweets"
   ]
  },
  {
   "cell_type": "code",
   "execution_count": null,
   "metadata": {},
   "outputs": [],
   "source": [
    "RESULTS_PER_CALL = 500  # 100 for sandbox, 500 for paid tiers\n",
    "TO_DATE = '2020-05-12 23:59' # format YYYY-MM-DD HH:MM (hour and minutes optional)\n",
    "FROM_DATE = '2020-05-12'  # format YYYY-MM-DD HH:MM (hour and minutes optional)\n",
    "\n",
    "MAX_RESULTS = 500  # Number of Tweets you want to collect\n",
    "\n",
    "FILENAME = 'twitter_premium_api_demo.jsonl'  # Where the Tweets should be saved\n",
    "\n",
    "# Script prints an update to the CLI every time it collected another X Tweets\n",
    "PRINT_AFTER_X = 1000"
   ]
  },
  {
   "cell_type": "code",
   "execution_count": 36,
   "metadata": {},
   "outputs": [],
   "source": [
    "SEARCH_QUERY = 'wfh lang:en profile_country:\"US\"'"
   ]
  },
  {
   "cell_type": "code",
   "execution_count": 37,
   "metadata": {},
   "outputs": [
    {
     "name": "stderr",
     "output_type": "stream",
     "text": [
      "Grabbing bearer token from OAUTH\n"
     ]
    },
    {
     "name": "stdout",
     "output_type": "stream",
     "text": [
      "{\"query\":\"wfh lang:en profile_country:\\\"US\\\"\",\"maxResults\":500,\"toDate\":\"202005122359\",\"fromDate\":\"202005120000\"}\n"
     ]
    }
   ],
   "source": [
    "import json\n",
    "from searchtweets import load_credentials, gen_rule_payload, ResultStream\n",
    "\n",
    "premium_search_args = load_credentials(\"twitter_keys.yaml\",\n",
    "                                       yaml_key=\"search_tweets_api\",\n",
    "                                       env_overwrite=False)\n",
    "\n",
    "rule = gen_rule_payload(SEARCH_QUERY,\n",
    "                        results_per_call=RESULTS_PER_CALL,\n",
    "                        from_date=FROM_DATE,\n",
    "                        to_date=TO_DATE\n",
    "                        )\n",
    "print(rule)"
   ]
  },
  {
   "cell_type": "code",
   "execution_count": null,
   "metadata": {},
   "outputs": [],
   "source": [
    "print(premium_search_args)"
   ]
  },
  {
   "cell_type": "code",
   "execution_count": 39,
   "metadata": {},
   "outputs": [],
   "source": [
    "from searchtweets import collect_results\n",
    "tweets = collect_results(rule,\n",
    "                         max_results=500,\n",
    "                         result_stream_args=premium_search_args) # change this if you need to"
   ]
  },
  {
   "cell_type": "code",
   "execution_count": null,
   "metadata": {},
   "outputs": [],
   "source": [
    "len(tweets)"
   ]
  },
  {
   "cell_type": "code",
   "execution_count": null,
   "metadata": {},
   "outputs": [],
   "source": [
    "print(tweets[0])"
   ]
  },
  {
   "cell_type": "code",
   "execution_count": null,
   "metadata": {},
   "outputs": [],
   "source": [
    "dir(tweets[0])"
   ]
  },
  {
   "cell_type": "code",
   "execution_count": 41,
   "metadata": {},
   "outputs": [
    {
     "name": "stdout",
     "output_type": "stream",
     "text": [
      "{'country': 'United States', 'country_code': 'US', 'locality': 'Miami', 'region': 'Florida', 'sub_region': 'Miami-Dade County', 'full_name': 'Miami, Florida, United States', 'geo': {'coordinates': [-80.19366, 25.77427], 'type': 'point'}}\n",
      "\n",
      "{'country': 'United States', 'country_code': 'US', 'locality': 'Atlanta', 'region': 'Georgia', 'sub_region': 'Fulton County', 'full_name': 'Atlanta, Georgia, United States', 'geo': {'coordinates': [-84.38798, 33.749], 'type': 'point'}}\n",
      "\n",
      "{'country': 'United States', 'country_code': 'US', 'locality': 'Charlotte', 'region': 'North Carolina', 'sub_region': 'Mecklenburg County', 'full_name': 'Charlotte, North Carolina, United States', 'geo': {'coordinates': [-80.84313, 35.22709], 'type': 'point'}}\n",
      "\n",
      "{'country': 'United States', 'country_code': 'US', 'locality': 'Charlotte', 'region': 'North Carolina', 'sub_region': 'Mecklenburg County', 'full_name': 'Charlotte, North Carolina, United States', 'geo': {'coordinates': [-80.84313, 35.22709], 'type': 'point'}}\n",
      "\n",
      "{'country': 'United States', 'country_code': 'US', 'region': 'Arizona', 'full_name': 'Arizona, United States', 'geo': {'coordinates': [-111.50098, 34.5003], 'type': 'point'}}\n",
      "\n",
      "{'country': 'United States', 'country_code': 'US', 'locality': 'Charlotte', 'region': 'North Carolina', 'sub_region': 'Mecklenburg County', 'full_name': 'Charlotte, North Carolina, United States', 'geo': {'coordinates': [-80.84313, 35.22709], 'type': 'point'}}\n",
      "\n",
      "{'country': 'United States', 'country_code': 'US', 'locality': 'San Francisco', 'region': 'California', 'sub_region': 'San Francisco County', 'full_name': 'San Francisco, California, United States', 'geo': {'coordinates': [-122.41942, 37.77493], 'type': 'point'}}\n",
      "\n",
      "{'country': 'United States', 'country_code': 'US', 'region': 'New York', 'full_name': 'New York, United States', 'geo': {'coordinates': [-75.4999, 43.00035], 'type': 'point'}}\n",
      "\n",
      "{'country': 'United States', 'country_code': 'US', 'locality': 'San Francisco', 'region': 'California', 'sub_region': 'San Francisco County', 'full_name': 'San Francisco, California, United States', 'geo': {'coordinates': [-122.41942, 37.77493], 'type': 'point'}}\n",
      "\n",
      "{'country': 'United States', 'country_code': 'US', 'locality': 'Fort Worth', 'region': 'Texas', 'sub_region': 'Tarrant County', 'full_name': 'Fort Worth, Texas, United States', 'geo': {'coordinates': [-97.32085, 32.72541], 'type': 'point'}}\n",
      "\n",
      "{'country': 'United States', 'country_code': 'US', 'locality': 'Brooklyn', 'region': 'New York', 'sub_region': 'Kings County', 'full_name': 'Brooklyn, New York, United States', 'geo': {'coordinates': [-73.94958, 40.6501], 'type': 'point'}}\n",
      "\n",
      "{'country': 'United States', 'country_code': 'US', 'region': 'New York', 'full_name': 'New York, United States', 'geo': {'coordinates': [-75.4999, 43.00035], 'type': 'point'}}\n",
      "\n",
      "{'country': 'United States', 'country_code': 'US', 'locality': 'Detroit', 'region': 'Michigan', 'sub_region': 'Wayne County', 'full_name': 'Detroit, Michigan, United States', 'geo': {'coordinates': [-83.04575, 42.33143], 'type': 'point'}}\n",
      "\n",
      "{'country': 'United States', 'country_code': 'US', 'locality': 'San Francisco', 'region': 'California', 'sub_region': 'San Francisco County', 'full_name': 'San Francisco, California, United States', 'geo': {'coordinates': [-122.41942, 37.77493], 'type': 'point'}}\n",
      "\n",
      "{'country': 'United States', 'country_code': 'US', 'locality': 'Oakland', 'region': 'California', 'sub_region': 'Alameda County', 'full_name': 'Oakland, California, United States', 'geo': {'coordinates': [-122.2708, 37.80437], 'type': 'point'}}\n",
      "\n",
      "{'country': 'United States', 'country_code': 'US', 'locality': 'Miami', 'region': 'Florida', 'sub_region': 'Miami-Dade County', 'full_name': 'Miami, Florida, United States', 'geo': {'coordinates': [-80.19366, 25.77427], 'type': 'point'}}\n",
      "\n",
      "{'country': 'United States', 'country_code': 'US', 'locality': 'Mountain View', 'region': 'California', 'sub_region': 'Santa Clara County', 'full_name': 'Mountain View, California, United States', 'geo': {'coordinates': [-122.08385, 37.38605], 'type': 'point'}}\n",
      "\n",
      "{'country': 'United States', 'country_code': 'US', 'locality': 'San Diego', 'region': 'California', 'sub_region': 'San Diego County', 'full_name': 'San Diego, California, United States', 'geo': {'coordinates': [-117.15726, 32.71533], 'type': 'point'}}\n",
      "\n",
      "{'country': 'United States', 'country_code': 'US', 'locality': 'San Francisco', 'region': 'California', 'sub_region': 'San Francisco County', 'full_name': 'San Francisco, California, United States', 'geo': {'coordinates': [-122.41942, 37.77493], 'type': 'point'}}\n",
      "\n",
      "{'country': 'United States', 'country_code': 'US', 'locality': 'Burbank', 'region': 'California', 'sub_region': 'Los Angeles County', 'full_name': 'Burbank, California, United States', 'geo': {'coordinates': [-118.30897, 34.18084], 'type': 'point'}}\n",
      "\n",
      "{'country': 'United States', 'country_code': 'US', 'locality': 'Charlotte', 'region': 'North Carolina', 'sub_region': 'Mecklenburg County', 'full_name': 'Charlotte, North Carolina, United States', 'geo': {'coordinates': [-80.84313, 35.22709], 'type': 'point'}}\n",
      "\n",
      "{'country': 'United States', 'country_code': 'US', 'locality': 'Nashville', 'region': 'Tennessee', 'sub_region': 'Davidson County', 'full_name': 'Nashville, Tennessee, United States', 'geo': {'coordinates': [-86.78444, 36.16589], 'type': 'point'}}\n",
      "\n",
      "{'country': 'United States', 'country_code': 'US', 'locality': 'Seattle', 'region': 'Washington', 'sub_region': 'King County', 'full_name': 'Seattle, Washington, United States', 'geo': {'coordinates': [-122.33207, 47.60621], 'type': 'point'}}\n",
      "\n",
      "{'country': 'United States', 'country_code': 'US', 'region': 'New York', 'full_name': 'New York, United States', 'geo': {'coordinates': [-75.4999, 43.00035], 'type': 'point'}}\n",
      "\n",
      "{'country': 'United States', 'country_code': 'US', 'locality': 'Washington, D. C.', 'region': 'Washington, D.C.', 'full_name': 'Washington, D. C., Washington, D.C., United States', 'geo': {'coordinates': [-77.03637, 38.89511], 'type': 'point'}}\n",
      "\n",
      "{'country': 'United States', 'country_code': 'US', 'region': 'North Carolina', 'full_name': 'North Carolina, United States', 'geo': {'coordinates': [-80.00032, 35.50069], 'type': 'point'}}\n",
      "\n",
      "{'country': 'United States', 'country_code': 'US', 'locality': 'Delray Beach', 'region': 'Florida', 'sub_region': 'Palm Beach County', 'full_name': 'Delray Beach, Florida, United States', 'geo': {'coordinates': [-80.07282, 26.46146], 'type': 'point'}}\n",
      "\n",
      "{'country': 'United States', 'country_code': 'US', 'locality': 'Dana Point', 'region': 'California', 'sub_region': 'Orange County', 'full_name': 'Dana Point, California, United States', 'geo': {'coordinates': [-117.69811, 33.46697], 'type': 'point'}}\n",
      "\n",
      "{'country': 'United States', 'country_code': 'US', 'locality': 'Miami', 'region': 'Florida', 'sub_region': 'Miami-Dade County', 'full_name': 'Miami, Florida, United States', 'geo': {'coordinates': [-80.19366, 25.77427], 'type': 'point'}}\n",
      "\n",
      "{'country': 'United States', 'country_code': 'US', 'locality': 'San Francisco', 'region': 'California', 'sub_region': 'San Francisco County', 'full_name': 'San Francisco, California, United States', 'geo': {'coordinates': [-122.41942, 37.77493], 'type': 'point'}}\n",
      "\n",
      "{'country': 'United States', 'country_code': 'US', 'locality': 'Temple Terrace', 'region': 'Florida', 'sub_region': 'Hillsborough County', 'full_name': 'Temple Terrace, Florida, United States', 'geo': {'coordinates': [-82.38926, 28.0353], 'type': 'point'}}\n",
      "\n",
      "{'country': 'United States', 'country_code': 'US', 'locality': 'Seattle', 'region': 'Washington', 'sub_region': 'King County', 'full_name': 'Seattle, Washington, United States', 'geo': {'coordinates': [-122.33207, 47.60621], 'type': 'point'}}\n",
      "\n",
      "{'country': 'United States', 'country_code': 'US', 'locality': 'Seattle', 'region': 'Washington', 'sub_region': 'King County', 'full_name': 'Seattle, Washington, United States', 'geo': {'coordinates': [-122.33207, 47.60621], 'type': 'point'}}\n",
      "\n",
      "{'country': 'United States', 'country_code': 'US', 'region': 'New York', 'full_name': 'New York, United States', 'geo': {'coordinates': [-75.4999, 43.00035], 'type': 'point'}}\n",
      "\n",
      "{'country': 'United States', 'country_code': 'US', 'locality': 'San Francisco', 'region': 'California', 'sub_region': 'San Francisco County', 'full_name': 'San Francisco, California, United States', 'geo': {'coordinates': [-122.41942, 37.77493], 'type': 'point'}}\n",
      "\n",
      "{'country': 'United States', 'country_code': 'US', 'locality': 'Ridgefield Park', 'region': 'New Jersey', 'sub_region': 'Bergen County', 'full_name': 'Ridgefield Park, New Jersey, United States', 'geo': {'coordinates': [-74.02153, 40.85704], 'type': 'point'}}\n",
      "\n",
      "{'country': 'United States', 'country_code': 'US', 'locality': 'Boston', 'region': 'Massachusetts', 'sub_region': 'Suffolk County', 'full_name': 'Boston, Massachusetts, United States', 'geo': {'coordinates': [-71.05977, 42.35843], 'type': 'point'}}\n",
      "\n",
      "{'country': 'United States', 'country_code': 'US', 'locality': 'Los Angeles', 'region': 'California', 'sub_region': 'Los Angeles County', 'full_name': 'Los Angeles, California, United States', 'geo': {'coordinates': [-118.24368, 34.05223], 'type': 'point'}}\n",
      "\n",
      "{'country': 'United States', 'country_code': 'US', 'locality': 'Coos Bay', 'region': 'Oregon', 'sub_region': 'Coos County', 'full_name': 'Coos Bay, Oregon, United States', 'geo': {'coordinates': [-124.21789, 43.3665], 'type': 'point'}}\n",
      "\n",
      "{'country': 'United States', 'country_code': 'US', 'region': 'California', 'full_name': 'California, United States', 'geo': {'coordinates': [-119.75126, 37.25022], 'type': 'point'}}\n",
      "\n",
      "{'country': 'United States', 'country_code': 'US', 'locality': 'Houston', 'region': 'Texas', 'sub_region': 'Harris County', 'full_name': 'Houston, Texas, United States', 'geo': {'coordinates': [-95.36327, 29.76328], 'type': 'point'}}\n",
      "\n",
      "{'country': 'United States', 'country_code': 'US', 'region': 'Delaware', 'full_name': 'Delaware, United States', 'geo': {'coordinates': [-75.49992, 39.00039], 'type': 'point'}}\n",
      "\n",
      "{'country': 'United States', 'country_code': 'US', 'locality': 'Marina del Rey', 'region': 'California', 'sub_region': 'Los Angeles County', 'full_name': 'Marina del Rey, California, United States', 'geo': {'coordinates': [-118.45174, 33.98029], 'type': 'point'}}\n",
      "\n",
      "{'country': 'United States', 'country_code': 'US', 'locality': 'Raleigh', 'region': 'North Carolina', 'sub_region': 'Wake County', 'full_name': 'Raleigh, North Carolina, United States', 'geo': {'coordinates': [-78.63861, 35.7721], 'type': 'point'}}\n",
      "\n",
      "{'country': 'United States', 'country_code': 'US', 'locality': 'San Francisco', 'region': 'California', 'sub_region': 'San Francisco County', 'full_name': 'San Francisco, California, United States', 'geo': {'coordinates': [-122.41942, 37.77493], 'type': 'point'}}\n",
      "\n",
      "{'country': 'United States', 'country_code': 'US', 'locality': 'Brooklyn', 'region': 'New York', 'sub_region': 'Kings County', 'full_name': 'Brooklyn, New York, United States', 'geo': {'coordinates': [-73.94958, 40.6501], 'type': 'point'}}\n",
      "\n",
      "{'country': 'United States', 'country_code': 'US', 'locality': 'Oakland', 'region': 'California', 'sub_region': 'Alameda County', 'full_name': 'Oakland, California, United States', 'geo': {'coordinates': [-122.2708, 37.80437], 'type': 'point'}}\n",
      "\n",
      "{'country': 'United States', 'country_code': 'US', 'locality': 'Portland', 'region': 'Oregon', 'sub_region': 'Multnomah County', 'full_name': 'Portland, Oregon, United States', 'geo': {'coordinates': [-122.67621, 45.52345], 'type': 'point'}}\n",
      "\n",
      "{'country': 'United States', 'country_code': 'US', 'locality': 'Boston', 'region': 'Massachusetts', 'sub_region': 'Suffolk County', 'full_name': 'Boston, Massachusetts, United States', 'geo': {'coordinates': [-71.05977, 42.35843], 'type': 'point'}}\n",
      "\n",
      "{'country': 'United States', 'country_code': 'US', 'locality': 'Los Angeles', 'region': 'California', 'sub_region': 'Los Angeles County', 'full_name': 'Los Angeles, California, United States', 'geo': {'coordinates': [-118.24368, 34.05223], 'type': 'point'}}\n",
      "\n"
     ]
    }
   ],
   "source": [
    "[print(tweet.profile_location, end='\\n\\n') for tweet in tweets[0:50]];\n"
   ]
  },
  {
   "cell_type": "code",
   "execution_count": 66,
   "metadata": {},
   "outputs": [
    {
     "name": "stdout",
     "output_type": "stream",
     "text": [
      "Teramind's #employeemonitoring software has received the @Crozdesk Trusted Vendor badge, an honor given to only 20% of the solutions ever featured on this user-review site! https://t.co/cBlVKxOLXu #userreviews #techreviews #WFH #remotework #insiderthreats #security #productivity\n",
      "\n",
      "I think one thing I’m really good at is creating boundaries at work. Once 5/6pm hits, I respond to nothing until the next day. WFH or not, I’m not spending all day working tf\n",
      "\n",
      "@oknotsomuch And I am the maximal WFH defender\n",
      "\n",
      "@oknotsomuch yeah this has been my reaction to all the WFH stuff too, I genuinely feel for parents who have to juggle in this situation.\n",
      "\n",
      "AZ is set to open this weekend. I’m not happy about that at all. \n",
      "\n",
      "It’s only suggested that accommodations be made for vulnerable populations so I guess I just hope my employer is understanding of my heart issues and lets me WFH or I have to make some tough choices.\n",
      "\n",
      "Article: “There are so many changes going on in the network, SD-WAN has to evolve,” &gt;&gt; We would like to suggest an alternative to SD-WAN - The NetFoundry Network Platform addresses all of these challenges today! https://t.co/IgfrwH8D3F  #SDWAN #NaaS #network #zerotrust #sase #WFH https://t.co/9pif5F9RRT\n",
      "\n",
      "@JuanArreguin @SlackHQ It is. Kinda a BFD when WFH &gt;_&lt;\n",
      "\n",
      "@2AvSagas My gut feeling is that a lot more employers will be amenable to regular WFH (once a week, say), but it won’t be the default for the vast majority of office workers.\n",
      "\n",
      "Slack is down and we all are WFH. In this economy, I believe this means we will hit new all time highs in the market tomorrow.\n",
      "\n",
      "In case you need a new background for your next video call 💻 #acltv #wfh https://t.co/RkrJHtiadn\n",
      "\n",
      "Something to put on your F(ollow) list: #Twitter announcing the option of remote work forever. This will be something to watch in the coming months. #WFH #WorkFromHome\n",
      "\n",
      "@burgessdryan @JemYoung Same here! I think WFH as an option when needed is great, or even 1-2 days a week, but I miss the office too!\n",
      "\n",
      "Note to non-librarians who follow me: the ALA speaks for *libraries* not library workers. That means managers, administrators, and funders think we should open for the PR (while they wfh), but they have not bothered to ask actual workers how they feel about dying for the cause. https://t.co/mG2IobO7eD\n",
      "\n",
      "Permanent #WFH for @Twitter forever! Who's next? @Google @Facebook @Apple @netflix \n",
      "\n",
      "https://t.co/FKNNPnTFZh\n",
      "\n",
      "@stefanlasiewski Phew!  I see that https://t.co/rMXSrDWaPK now confirms that I am not insane.\n",
      "\n",
      "Suddenly WFH got real serious.  I must start sending single-sentence emails to large swaths of NERSC to feel normal.\n",
      "\n"
     ]
    }
   ],
   "source": [
    "[print(tweet.all_text, end='\\n\\n') for tweet in tweets[0:15]];\n"
   ]
  },
  {
   "cell_type": "code",
   "execution_count": 46,
   "metadata": {},
   "outputs": [
    {
     "name": "stderr",
     "output_type": "stream",
     "text": [
      "HTTP Error code: 422: {\"error\":{\"message\":\"There were errors processing your request: Height of bounding_box must be less than 25 miles (at position 13), Width of bounding_box must be less than 25 miles (at position 13)\",\"sent\":\"2020-05-26T05:49:21+00:00\",\"transactionId\":\"0044b12b00a1fe32\"}}\n",
      "Request payload: {'query': 'wfh lang:en bounding_box:[-125 25 -65 48]', 'maxResults': 500, 'toDate': '202005222359', 'fromDate': '202005220000'}\n"
     ]
    },
    {
     "name": "stdout",
     "output_type": "stream",
     "text": [
      "ResultStream: \n",
      "\t{\n",
      "    \"username\":null,\n",
      "    \"endpoint\":\"https:\\/\\/api.twitter.com\\/1.1\\/tweets\\/search\\/30day\\/covidwfh.json\",\n",
      "    \"rule_payload\":{\n",
      "        \"query\":\"wfh lang:en bounding_box:[-125 25 -65 48]\",\n",
      "        \"maxResults\":500,\n",
      "        \"toDate\":\"202005222359\",\n",
      "        \"fromDate\":\"202005220000\"\n",
      "    },\n",
      "    \"tweetify\":true,\n",
      "    \"max_results\":500\n",
      "}\n"
     ]
    },
    {
     "ename": "HTTPError",
     "evalue": "",
     "output_type": "error",
     "traceback": [
      "\u001b[0;31m---------------------------------------------------------------------------\u001b[0m",
      "\u001b[0;31mHTTPError\u001b[0m                                 Traceback (most recent call last)",
      "\u001b[0;32m<ipython-input-46-a5154183138a>\u001b[0m in \u001b[0;36m<module>\u001b[0;34m\u001b[0m\n\u001b[1;32m      8\u001b[0m \u001b[0;32mwith\u001b[0m \u001b[0mopen\u001b[0m\u001b[0;34m(\u001b[0m\u001b[0mFILENAME\u001b[0m\u001b[0;34m,\u001b[0m \u001b[0;34m'a'\u001b[0m\u001b[0;34m,\u001b[0m \u001b[0mencoding\u001b[0m\u001b[0;34m=\u001b[0m\u001b[0;34m'utf-8'\u001b[0m\u001b[0;34m)\u001b[0m \u001b[0;32mas\u001b[0m \u001b[0mf\u001b[0m\u001b[0;34m:\u001b[0m\u001b[0;34m\u001b[0m\u001b[0;34m\u001b[0m\u001b[0m\n\u001b[1;32m      9\u001b[0m     \u001b[0mn\u001b[0m \u001b[0;34m=\u001b[0m \u001b[0;36m0\u001b[0m\u001b[0;34m\u001b[0m\u001b[0;34m\u001b[0m\u001b[0m\n\u001b[0;32m---> 10\u001b[0;31m     \u001b[0;32mfor\u001b[0m \u001b[0mtweet\u001b[0m \u001b[0;32min\u001b[0m \u001b[0mrs\u001b[0m\u001b[0;34m.\u001b[0m\u001b[0mstream\u001b[0m\u001b[0;34m(\u001b[0m\u001b[0;34m)\u001b[0m\u001b[0;34m:\u001b[0m\u001b[0;34m\u001b[0m\u001b[0;34m\u001b[0m\u001b[0m\n\u001b[0m\u001b[1;32m     11\u001b[0m         \u001b[0mn\u001b[0m \u001b[0;34m+=\u001b[0m \u001b[0;36m1\u001b[0m\u001b[0;34m\u001b[0m\u001b[0;34m\u001b[0m\u001b[0m\n\u001b[1;32m     12\u001b[0m         \u001b[0;32mif\u001b[0m \u001b[0mn\u001b[0m \u001b[0;34m%\u001b[0m \u001b[0mPRINT_AFTER_X\u001b[0m \u001b[0;34m==\u001b[0m \u001b[0;36m0\u001b[0m\u001b[0;34m:\u001b[0m\u001b[0;34m\u001b[0m\u001b[0;34m\u001b[0m\u001b[0m\n",
      "\u001b[0;32m/opt/anaconda2/envs/py36/lib/python3.6/site-packages/searchtweets/result_stream.py\u001b[0m in \u001b[0;36mstream\u001b[0;34m(self)\u001b[0m\n\u001b[1;32m    220\u001b[0m         \u001b[0mself\u001b[0m\u001b[0;34m.\u001b[0m\u001b[0minit_session\u001b[0m\u001b[0;34m(\u001b[0m\u001b[0;34m)\u001b[0m\u001b[0;34m\u001b[0m\u001b[0;34m\u001b[0m\u001b[0m\n\u001b[1;32m    221\u001b[0m         \u001b[0mself\u001b[0m\u001b[0;34m.\u001b[0m\u001b[0mcheck_counts\u001b[0m\u001b[0;34m(\u001b[0m\u001b[0;34m)\u001b[0m\u001b[0;34m\u001b[0m\u001b[0;34m\u001b[0m\u001b[0m\n\u001b[0;32m--> 222\u001b[0;31m         \u001b[0mself\u001b[0m\u001b[0;34m.\u001b[0m\u001b[0mexecute_request\u001b[0m\u001b[0;34m(\u001b[0m\u001b[0;34m)\u001b[0m\u001b[0;34m\u001b[0m\u001b[0;34m\u001b[0m\u001b[0m\n\u001b[0m\u001b[1;32m    223\u001b[0m         \u001b[0mself\u001b[0m\u001b[0;34m.\u001b[0m\u001b[0mstream_started\u001b[0m \u001b[0;34m=\u001b[0m \u001b[0;32mTrue\u001b[0m\u001b[0;34m\u001b[0m\u001b[0;34m\u001b[0m\u001b[0m\n\u001b[1;32m    224\u001b[0m         \u001b[0;32mwhile\u001b[0m \u001b[0;32mTrue\u001b[0m\u001b[0;34m:\u001b[0m\u001b[0;34m\u001b[0m\u001b[0;34m\u001b[0m\u001b[0m\n",
      "\u001b[0;32m/opt/anaconda2/envs/py36/lib/python3.6/site-packages/searchtweets/result_stream.py\u001b[0m in \u001b[0;36mexecute_request\u001b[0;34m(self)\u001b[0m\n\u001b[1;32m    272\u001b[0m         resp = request(session=self.session,\n\u001b[1;32m    273\u001b[0m                        \u001b[0murl\u001b[0m\u001b[0;34m=\u001b[0m\u001b[0mself\u001b[0m\u001b[0;34m.\u001b[0m\u001b[0mendpoint\u001b[0m\u001b[0;34m,\u001b[0m\u001b[0;34m\u001b[0m\u001b[0;34m\u001b[0m\u001b[0m\n\u001b[0;32m--> 274\u001b[0;31m                        rule_payload=self.rule_payload)\n\u001b[0m\u001b[1;32m    275\u001b[0m         \u001b[0mself\u001b[0m\u001b[0;34m.\u001b[0m\u001b[0mn_requests\u001b[0m \u001b[0;34m+=\u001b[0m \u001b[0;36m1\u001b[0m\u001b[0;34m\u001b[0m\u001b[0;34m\u001b[0m\u001b[0m\n\u001b[1;32m    276\u001b[0m         \u001b[0mResultStream\u001b[0m\u001b[0;34m.\u001b[0m\u001b[0msession_request_counter\u001b[0m \u001b[0;34m+=\u001b[0m \u001b[0;36m1\u001b[0m\u001b[0;34m\u001b[0m\u001b[0;34m\u001b[0m\u001b[0m\n",
      "\u001b[0;32m/opt/anaconda2/envs/py36/lib/python3.6/site-packages/searchtweets/result_stream.py\u001b[0m in \u001b[0;36mretried_func\u001b[0;34m(*args, **kwargs)\u001b[0m\n\u001b[1;32m    108\u001b[0m                 \u001b[0;32melse\u001b[0m\u001b[0;34m:\u001b[0m\u001b[0;34m\u001b[0m\u001b[0;34m\u001b[0m\u001b[0m\n\u001b[1;32m    109\u001b[0m                     \u001b[0;31m#Other errors are a \"one and done\", no use in retrying error...\u001b[0m\u001b[0;34m\u001b[0m\u001b[0;34m\u001b[0m\u001b[0;34m\u001b[0m\u001b[0m\n\u001b[0;32m--> 110\u001b[0;31m                     \u001b[0;32mraise\u001b[0m \u001b[0mrequests\u001b[0m\u001b[0;34m.\u001b[0m\u001b[0mexceptions\u001b[0m\u001b[0;34m.\u001b[0m\u001b[0mHTTPError\u001b[0m\u001b[0;34m\u001b[0m\u001b[0;34m\u001b[0m\u001b[0m\n\u001b[0m\u001b[1;32m    111\u001b[0m \u001b[0;34m\u001b[0m\u001b[0m\n\u001b[1;32m    112\u001b[0m                 \u001b[0;31m# mini exponential backoff here.\u001b[0m\u001b[0;34m\u001b[0m\u001b[0;34m\u001b[0m\u001b[0;34m\u001b[0m\u001b[0m\n",
      "\u001b[0;31mHTTPError\u001b[0m: "
     ]
    }
   ],
   "source": [
    "from searchtweets import ResultStream\n",
    "\n",
    "rs = ResultStream(rule_payload=rule,\n",
    "                  max_results=500,\n",
    "                  **premium_search_args)\n",
    "print(rs)\n",
    "\n",
    "with open(FILENAME, 'a', encoding='utf-8') as f:\n",
    "    n = 0\n",
    "    for tweet in rs.stream():\n",
    "        n += 1\n",
    "        if n % PRINT_AFTER_X == 0:\n",
    "            print('{0}: {1}'.format(str(n), tweet['created_at']))\n",
    "        json.dump(tweet, f)\n",
    "        f.write('\\n')\n",
    "print('done')"
   ]
  },
  {
   "cell_type": "code",
   "execution_count": null,
   "metadata": {},
   "outputs": [],
   "source": []
  },
  {
   "cell_type": "code",
   "execution_count": null,
   "metadata": {},
   "outputs": [],
   "source": []
  },
  {
   "cell_type": "code",
   "execution_count": null,
   "metadata": {},
   "outputs": [],
   "source": []
  },
  {
   "cell_type": "code",
   "execution_count": null,
   "metadata": {},
   "outputs": [],
   "source": []
  },
  {
   "cell_type": "code",
   "execution_count": null,
   "metadata": {},
   "outputs": [],
   "source": []
  },
  {
   "cell_type": "code",
   "execution_count": null,
   "metadata": {},
   "outputs": [],
   "source": []
  },
  {
   "cell_type": "code",
   "execution_count": null,
   "metadata": {},
   "outputs": [],
   "source": []
  },
  {
   "cell_type": "code",
   "execution_count": 20,
   "metadata": {},
   "outputs": [
    {
     "name": "stdout",
     "output_type": "stream",
     "text": [
      "done\n"
     ]
    }
   ],
   "source": [
    "rs = ResultStream(rule_payload=rule,\n",
    "                  max_results=MAX_RESULTS,\n",
    "                  **premium_search_args)\n",
    "\n"
   ]
  },
  {
   "cell_type": "code",
   "execution_count": null,
   "metadata": {},
   "outputs": [],
   "source": []
  },
  {
   "cell_type": "code",
   "execution_count": null,
   "metadata": {},
   "outputs": [],
   "source": []
  },
  {
   "cell_type": "code",
   "execution_count": null,
   "metadata": {},
   "outputs": [],
   "source": []
  },
  {
   "cell_type": "code",
   "execution_count": null,
   "metadata": {},
   "outputs": [],
   "source": []
  },
  {
   "cell_type": "code",
   "execution_count": null,
   "metadata": {},
   "outputs": [],
   "source": []
  },
  {
   "cell_type": "code",
   "execution_count": null,
   "metadata": {},
   "outputs": [],
   "source": []
  }
 ],
 "metadata": {
  "kernelspec": {
   "display_name": "py36",
   "language": "python",
   "name": "py36"
  },
  "language_info": {
   "codemirror_mode": {
    "name": "ipython",
    "version": 3
   },
   "file_extension": ".py",
   "mimetype": "text/x-python",
   "name": "python",
   "nbconvert_exporter": "python",
   "pygments_lexer": "ipython3",
   "version": "3.6.10"
  }
 },
 "nbformat": 4,
 "nbformat_minor": 2
}
