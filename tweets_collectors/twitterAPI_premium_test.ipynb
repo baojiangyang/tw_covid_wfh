{
 "cells": [
  {
   "cell_type": "code",
   "execution_count": 1,
   "metadata": {},
   "outputs": [],
   "source": [
    "## INIT\n",
    "API_KEY = '1EfZQhitx7xPfHz25VCLpfjtR'\n",
    "API_SECRET_KEY = '5GZZcn5EFinqTggFeZKH3ObuOp019vYwPxNTqNvyZM78b5VIkh'\n",
    "if(False):\n",
    "    DEV_ENVIRONMENT_LABEL = 'covidwfh'\n",
    "    API_SCOPE = '30day'  # 'fullarchive' for full archive, '30day' for last 31 days\n",
    "if(True):\n",
    "    DEV_ENVIRONMENT_LABEL = 'covidwfhfullarchive'\n",
    "    API_SCOPE = 'fullarchive'  # 'fullarchive' for full archive, '30day' for last 31 days\n"
   ]
  },
  {
   "cell_type": "code",
   "execution_count": 2,
   "metadata": {},
   "outputs": [],
   "source": [
    "import yaml\n",
    "config = dict(\n",
    "    search_tweets_api=dict(\n",
    "        account_type='premium',\n",
    "        endpoint=f\"https://api.twitter.com/1.1/tweets/search/{API_SCOPE}/{DEV_ENVIRONMENT_LABEL}.json\",\n",
    "        consumer_key=API_KEY,\n",
    "        consumer_secret=API_SECRET_KEY\n",
    "    )\n",
    ")\n",
    "\n",
    "with open('twitter_keys.yaml', 'w') as config_file:\n",
    "    yaml.dump(config, config_file, default_flow_style=False)\n"
   ]
  },
  {
   "cell_type": "markdown",
   "metadata": {},
   "source": [
    "### get counts by day on query"
   ]
  },
  {
   "cell_type": "code",
   "execution_count": 3,
   "metadata": {},
   "outputs": [],
   "source": [
    "RESULTS_PER_CALL = 500  # 100 for sandbox, 500 for paid tiers\n",
    "TO_DATE = '2020-05-03' # format YYYY-MM-DD HH:MM (hour and minutes optional)\n",
    "FROM_DATE = '2020-01-01'  # format YYYY-MM-DD HH:MM (hour and minutes optional)\n",
    "\n",
    "MAX_RESULTS = 500  # Number of Tweets you want to collect\n",
    "\n",
    "# Script prints an update to the CLI every time it collected another X Tweets\n",
    "PRINT_AFTER_X = 1000"
   ]
  },
  {
   "cell_type": "code",
   "execution_count": 4,
   "metadata": {},
   "outputs": [],
   "source": [
    "SEARCH_QUERY = 'wfh lang:en profile_country:\"US\" -is:retweet'"
   ]
  },
  {
   "cell_type": "code",
   "execution_count": 5,
   "metadata": {},
   "outputs": [
    {
     "name": "stderr",
     "output_type": "stream",
     "text": [
      "Grabbing bearer token from OAUTH\n"
     ]
    },
    {
     "name": "stdout",
     "output_type": "stream",
     "text": [
      "{\"query\":\"wfh lang:en profile_country:\\\"US\\\" -is:retweet\",\"toDate\":\"202005030000\",\"fromDate\":\"202001010000\",\"bucket\":\"day\"}\n"
     ]
    }
   ],
   "source": [
    "import json\n",
    "from searchtweets import load_credentials, gen_rule_payload, ResultStream\n",
    "\n",
    "premium_search_args = load_credentials(\"twitter_keys.yaml\",\n",
    "                                       yaml_key=\"search_tweets_api\",\n",
    "                                       env_overwrite=False)\n",
    "\n",
    "\n",
    "\n",
    "rule = gen_rule_payload(SEARCH_QUERY,\n",
    "                        from_date=FROM_DATE,\n",
    "                        to_date=TO_DATE,\n",
    "                        count_bucket=\"day\",\n",
    "                        results_per_call=500)\n",
    "print(rule)"
   ]
  },
  {
   "cell_type": "code",
   "execution_count": 7,
   "metadata": {},
   "outputs": [],
   "source": [
    "from searchtweets import collect_results\n",
    "\n",
    "counts = collect_results(rule, max_results=500\n",
    "                         ,result_stream_args=premium_search_args\n",
    "                        )\n"
   ]
  },
  {
   "cell_type": "code",
   "execution_count": 8,
   "metadata": {},
   "outputs": [
    {
     "name": "stdout",
     "output_type": "stream",
     "text": [
      "{'timePeriod': '202004020000', 'count': 4419}\n",
      "{'timePeriod': '202004030000', 'count': 4117}\n",
      "{'timePeriod': '202004040000', 'count': 1414}\n",
      "{'timePeriod': '202004050000', 'count': 1044}\n",
      "{'timePeriod': '202004060000', 'count': 3455}\n",
      "{'timePeriod': '202004070000', 'count': 3669}\n",
      "{'timePeriod': '202004080000', 'count': 3799}\n",
      "{'timePeriod': '202004090000', 'count': 3463}\n",
      "{'timePeriod': '202004100000', 'count': 3042}\n",
      "{'timePeriod': '202004110000', 'count': 1216}\n",
      "{'timePeriod': '202004120000', 'count': 822}\n",
      "{'timePeriod': '202004130000', 'count': 2891}\n",
      "{'timePeriod': '202004140000', 'count': 3102}\n",
      "{'timePeriod': '202004150000', 'count': 3061}\n",
      "{'timePeriod': '202004160000', 'count': 3113}\n",
      "{'timePeriod': '202004170000', 'count': 3470}\n",
      "{'timePeriod': '202004180000', 'count': 1203}\n",
      "{'timePeriod': '202004190000', 'count': 862}\n",
      "{'timePeriod': '202004200000', 'count': 2680}\n",
      "{'timePeriod': '202004210000', 'count': 2619}\n",
      "{'timePeriod': '202004220000', 'count': 2842}\n",
      "{'timePeriod': '202004230000', 'count': 3001}\n",
      "{'timePeriod': '202004240000', 'count': 2669}\n",
      "{'timePeriod': '202004250000', 'count': 982}\n",
      "{'timePeriod': '202004260000', 'count': 815}\n",
      "{'timePeriod': '202004270000', 'count': 2405}\n",
      "{'timePeriod': '202004280000', 'count': 2579}\n",
      "{'timePeriod': '202004290000', 'count': 2489}\n",
      "{'timePeriod': '202004300000', 'count': 2408}\n",
      "{'timePeriod': '202005010000', 'count': 2204}\n",
      "{'timePeriod': '202005020000', 'count': 820}\n",
      "{'timePeriod': '202003020000', 'count': 185}\n",
      "{'timePeriod': '202003030000', 'count': 405}\n",
      "{'timePeriod': '202003040000', 'count': 468}\n",
      "{'timePeriod': '202003050000', 'count': 887}\n",
      "{'timePeriod': '202003060000', 'count': 1155}\n",
      "{'timePeriod': '202003070000', 'count': 596}\n",
      "{'timePeriod': '202003080000', 'count': 388}\n",
      "{'timePeriod': '202003090000', 'count': 1283}\n",
      "{'timePeriod': '202003100000', 'count': 2054}\n",
      "{'timePeriod': '202003110000', 'count': 3306}\n",
      "{'timePeriod': '202003120000', 'count': 5205}\n",
      "{'timePeriod': '202003130000', 'count': 6462}\n",
      "{'timePeriod': '202003140000', 'count': 2743}\n",
      "{'timePeriod': '202003150000', 'count': 2276}\n",
      "{'timePeriod': '202003160000', 'count': 8286}\n",
      "{'timePeriod': '202003170000', 'count': 8402}\n",
      "{'timePeriod': '202003180000', 'count': 8631}\n",
      "{'timePeriod': '202003190000', 'count': 8070}\n",
      "{'timePeriod': '202003200000', 'count': 7257}\n",
      "{'timePeriod': '202003210000', 'count': 2470}\n",
      "{'timePeriod': '202003220000', 'count': 1771}\n",
      "{'timePeriod': '202003230000', 'count': 6091}\n",
      "{'timePeriod': '202003240000', 'count': 6147}\n",
      "{'timePeriod': '202003250000', 'count': 6450}\n",
      "{'timePeriod': '202003260000', 'count': 6112}\n",
      "{'timePeriod': '202003270000', 'count': 5551}\n",
      "{'timePeriod': '202003280000', 'count': 1786}\n",
      "{'timePeriod': '202003290000', 'count': 1374}\n",
      "{'timePeriod': '202003300000', 'count': 4611}\n",
      "{'timePeriod': '202003310000', 'count': 4718}\n",
      "{'timePeriod': '202004010000', 'count': 4773}\n",
      "{'timePeriod': '202001310000', 'count': 96}\n",
      "{'timePeriod': '202002010000', 'count': 27}\n",
      "{'timePeriod': '202002020000', 'count': 16}\n",
      "{'timePeriod': '202002030000', 'count': 55}\n",
      "{'timePeriod': '202002040000', 'count': 84}\n",
      "{'timePeriod': '202002050000', 'count': 92}\n",
      "{'timePeriod': '202002060000', 'count': 97}\n",
      "{'timePeriod': '202002070000', 'count': 90}\n",
      "{'timePeriod': '202002080000', 'count': 24}\n",
      "{'timePeriod': '202002090000', 'count': 22}\n",
      "{'timePeriod': '202002100000', 'count': 50}\n",
      "{'timePeriod': '202002110000', 'count': 58}\n",
      "{'timePeriod': '202002120000', 'count': 96}\n",
      "{'timePeriod': '202002130000', 'count': 97}\n",
      "{'timePeriod': '202002140000', 'count': 91}\n",
      "{'timePeriod': '202002150000', 'count': 18}\n",
      "{'timePeriod': '202002160000', 'count': 26}\n",
      "{'timePeriod': '202002170000', 'count': 47}\n",
      "{'timePeriod': '202002180000', 'count': 72}\n",
      "{'timePeriod': '202002190000', 'count': 76}\n",
      "{'timePeriod': '202002200000', 'count': 72}\n",
      "{'timePeriod': '202002210000', 'count': 86}\n",
      "{'timePeriod': '202002220000', 'count': 13}\n",
      "{'timePeriod': '202002230000', 'count': 27}\n",
      "{'timePeriod': '202002240000', 'count': 60}\n",
      "{'timePeriod': '202002250000', 'count': 90}\n",
      "{'timePeriod': '202002260000', 'count': 116}\n",
      "{'timePeriod': '202002270000', 'count': 126}\n",
      "{'timePeriod': '202002280000', 'count': 151}\n",
      "{'timePeriod': '202002290000', 'count': 63}\n",
      "{'timePeriod': '202003010000', 'count': 58}\n",
      "{'timePeriod': '202001010000', 'count': 17}\n",
      "{'timePeriod': '202001020000', 'count': 84}\n",
      "{'timePeriod': '202001030000', 'count': 128}\n",
      "{'timePeriod': '202001040000', 'count': 29}\n",
      "{'timePeriod': '202001050000', 'count': 11}\n",
      "{'timePeriod': '202001060000', 'count': 53}\n",
      "{'timePeriod': '202001070000', 'count': 75}\n",
      "{'timePeriod': '202001080000', 'count': 62}\n",
      "{'timePeriod': '202001090000', 'count': 88}\n",
      "{'timePeriod': '202001100000', 'count': 82}\n",
      "{'timePeriod': '202001110000', 'count': 21}\n",
      "{'timePeriod': '202001120000', 'count': 45}\n",
      "{'timePeriod': '202001130000', 'count': 116}\n",
      "{'timePeriod': '202001140000', 'count': 100}\n",
      "{'timePeriod': '202001150000', 'count': 82}\n",
      "{'timePeriod': '202001160000', 'count': 65}\n",
      "{'timePeriod': '202001170000', 'count': 80}\n",
      "{'timePeriod': '202001180000', 'count': 21}\n",
      "{'timePeriod': '202001190000', 'count': 22}\n",
      "{'timePeriod': '202001200000', 'count': 35}\n",
      "{'timePeriod': '202001210000', 'count': 82}\n",
      "{'timePeriod': '202001220000', 'count': 82}\n",
      "{'timePeriod': '202001230000', 'count': 84}\n",
      "{'timePeriod': '202001240000', 'count': 83}\n",
      "{'timePeriod': '202001250000', 'count': 21}\n",
      "{'timePeriod': '202001260000', 'count': 23}\n",
      "{'timePeriod': '202001270000', 'count': 55}\n",
      "{'timePeriod': '202001280000', 'count': 69}\n",
      "{'timePeriod': '202001290000', 'count': 70}\n",
      "{'timePeriod': '202001300000', 'count': 77}\n"
     ]
    }
   ],
   "source": [
    "[print(c) for c in counts];"
   ]
  },
  {
   "cell_type": "code",
   "execution_count": 10,
   "metadata": {},
   "outputs": [
    {
     "data": {
      "text/html": [
       "<div>\n",
       "<style scoped>\n",
       "    .dataframe tbody tr th:only-of-type {\n",
       "        vertical-align: middle;\n",
       "    }\n",
       "\n",
       "    .dataframe tbody tr th {\n",
       "        vertical-align: top;\n",
       "    }\n",
       "\n",
       "    .dataframe thead th {\n",
       "        text-align: right;\n",
       "    }\n",
       "</style>\n",
       "<table border=\"1\" class=\"dataframe\">\n",
       "  <thead>\n",
       "    <tr style=\"text-align: right;\">\n",
       "      <th></th>\n",
       "      <th>timePeriod</th>\n",
       "      <th>count</th>\n",
       "    </tr>\n",
       "  </thead>\n",
       "  <tbody>\n",
       "    <tr>\n",
       "      <th>0</th>\n",
       "      <td>202004020000</td>\n",
       "      <td>4419</td>\n",
       "    </tr>\n",
       "    <tr>\n",
       "      <th>1</th>\n",
       "      <td>202004030000</td>\n",
       "      <td>4117</td>\n",
       "    </tr>\n",
       "    <tr>\n",
       "      <th>2</th>\n",
       "      <td>202004040000</td>\n",
       "      <td>1414</td>\n",
       "    </tr>\n",
       "    <tr>\n",
       "      <th>3</th>\n",
       "      <td>202004050000</td>\n",
       "      <td>1044</td>\n",
       "    </tr>\n",
       "    <tr>\n",
       "      <th>4</th>\n",
       "      <td>202004060000</td>\n",
       "      <td>3455</td>\n",
       "    </tr>\n",
       "    <tr>\n",
       "      <th>5</th>\n",
       "      <td>202004070000</td>\n",
       "      <td>3669</td>\n",
       "    </tr>\n",
       "    <tr>\n",
       "      <th>6</th>\n",
       "      <td>202004080000</td>\n",
       "      <td>3799</td>\n",
       "    </tr>\n",
       "    <tr>\n",
       "      <th>7</th>\n",
       "      <td>202004090000</td>\n",
       "      <td>3463</td>\n",
       "    </tr>\n",
       "    <tr>\n",
       "      <th>8</th>\n",
       "      <td>202004100000</td>\n",
       "      <td>3042</td>\n",
       "    </tr>\n",
       "    <tr>\n",
       "      <th>9</th>\n",
       "      <td>202004110000</td>\n",
       "      <td>1216</td>\n",
       "    </tr>\n",
       "  </tbody>\n",
       "</table>\n",
       "</div>"
      ],
      "text/plain": [
       "     timePeriod  count\n",
       "0  202004020000   4419\n",
       "1  202004030000   4117\n",
       "2  202004040000   1414\n",
       "3  202004050000   1044\n",
       "4  202004060000   3455\n",
       "5  202004070000   3669\n",
       "6  202004080000   3799\n",
       "7  202004090000   3463\n",
       "8  202004100000   3042\n",
       "9  202004110000   1216"
      ]
     },
     "execution_count": 10,
     "metadata": {},
     "output_type": "execute_result"
    }
   ],
   "source": [
    "import pandas as pd\n",
    "df = pd.DataFrame.from_dict(counts, orient='columns')\n",
    "df.head(10)"
   ]
  },
  {
   "cell_type": "code",
   "execution_count": 11,
   "metadata": {},
   "outputs": [],
   "source": [
    "df.to_csv('wfh_counts_0101_0503.csv')"
   ]
  },
  {
   "cell_type": "markdown",
   "metadata": {},
   "source": [
    "### search historical tweets"
   ]
  },
  {
   "cell_type": "code",
   "execution_count": null,
   "metadata": {},
   "outputs": [],
   "source": [
    "RESULTS_PER_CALL = 500  # 100 for sandbox, 500 for paid tiers\n",
    "TO_DATE = '2020-05-12 23:59' # format YYYY-MM-DD HH:MM (hour and minutes optional)\n",
    "FROM_DATE = '2020-05-12'  # format YYYY-MM-DD HH:MM (hour and minutes optional)\n",
    "\n",
    "MAX_RESULTS = 500  # Number of Tweets you want to collect\n",
    "\n",
    "FILENAME = 'twitter_premium_api_demo.jsonl'  # Where the Tweets should be saved\n",
    "\n",
    "# Script prints an update to the CLI every time it collected another X Tweets\n",
    "PRINT_AFTER_X = 1000"
   ]
  },
  {
   "cell_type": "code",
   "execution_count": 36,
   "metadata": {},
   "outputs": [],
   "source": [
    "SEARCH_QUERY = 'wfh lang:en profile_country:\"US\"'"
   ]
  },
  {
   "cell_type": "code",
   "execution_count": 37,
   "metadata": {},
   "outputs": [
    {
     "name": "stderr",
     "output_type": "stream",
     "text": [
      "Grabbing bearer token from OAUTH\n"
     ]
    },
    {
     "name": "stdout",
     "output_type": "stream",
     "text": [
      "{\"query\":\"wfh lang:en profile_country:\\\"US\\\"\",\"maxResults\":500,\"toDate\":\"202005122359\",\"fromDate\":\"202005120000\"}\n"
     ]
    }
   ],
   "source": [
    "import json\n",
    "from searchtweets import load_credentials, gen_rule_payload, ResultStream\n",
    "\n",
    "premium_search_args = load_credentials(\"twitter_keys.yaml\",\n",
    "                                       yaml_key=\"search_tweets_api\",\n",
    "                                       env_overwrite=False)\n",
    "\n",
    "rule = gen_rule_payload(SEARCH_QUERY,\n",
    "                        results_per_call=RESULTS_PER_CALL,\n",
    "                        from_date=FROM_DATE,\n",
    "                        to_date=TO_DATE\n",
    "                        )\n",
    "print(rule)"
   ]
  },
  {
   "cell_type": "code",
   "execution_count": null,
   "metadata": {},
   "outputs": [],
   "source": [
    "print(premium_search_args)"
   ]
  },
  {
   "cell_type": "code",
   "execution_count": 39,
   "metadata": {},
   "outputs": [],
   "source": [
    "from searchtweets import collect_results\n",
    "tweets = collect_results(rule,\n",
    "                         max_results=500,\n",
    "                         result_stream_args=premium_search_args) # change this if you need to"
   ]
  },
  {
   "cell_type": "code",
   "execution_count": null,
   "metadata": {},
   "outputs": [],
   "source": [
    "len(tweets)"
   ]
  },
  {
   "cell_type": "code",
   "execution_count": null,
   "metadata": {},
   "outputs": [],
   "source": [
    "print(tweets[0])"
   ]
  },
  {
   "cell_type": "code",
   "execution_count": null,
   "metadata": {},
   "outputs": [],
   "source": [
    "dir(tweets[0])"
   ]
  },
  {
   "cell_type": "code",
   "execution_count": 41,
   "metadata": {},
   "outputs": [
    {
     "name": "stdout",
     "output_type": "stream",
     "text": [
      "{'country': 'United States', 'country_code': 'US', 'locality': 'Miami', 'region': 'Florida', 'sub_region': 'Miami-Dade County', 'full_name': 'Miami, Florida, United States', 'geo': {'coordinates': [-80.19366, 25.77427], 'type': 'point'}}\n",
      "\n",
      "{'country': 'United States', 'country_code': 'US', 'locality': 'Atlanta', 'region': 'Georgia', 'sub_region': 'Fulton County', 'full_name': 'Atlanta, Georgia, United States', 'geo': {'coordinates': [-84.38798, 33.749], 'type': 'point'}}\n",
      "\n",
      "{'country': 'United States', 'country_code': 'US', 'locality': 'Charlotte', 'region': 'North Carolina', 'sub_region': 'Mecklenburg County', 'full_name': 'Charlotte, North Carolina, United States', 'geo': {'coordinates': [-80.84313, 35.22709], 'type': 'point'}}\n",
      "\n",
      "{'country': 'United States', 'country_code': 'US', 'locality': 'Charlotte', 'region': 'North Carolina', 'sub_region': 'Mecklenburg County', 'full_name': 'Charlotte, North Carolina, United States', 'geo': {'coordinates': [-80.84313, 35.22709], 'type': 'point'}}\n",
      "\n",
      "{'country': 'United States', 'country_code': 'US', 'region': 'Arizona', 'full_name': 'Arizona, United States', 'geo': {'coordinates': [-111.50098, 34.5003], 'type': 'point'}}\n",
      "\n",
      "{'country': 'United States', 'country_code': 'US', 'locality': 'Charlotte', 'region': 'North Carolina', 'sub_region': 'Mecklenburg County', 'full_name': 'Charlotte, North Carolina, United States', 'geo': {'coordinates': [-80.84313, 35.22709], 'type': 'point'}}\n",
      "\n",
      "{'country': 'United States', 'country_code': 'US', 'locality': 'San Francisco', 'region': 'California', 'sub_region': 'San Francisco County', 'full_name': 'San Francisco, California, United States', 'geo': {'coordinates': [-122.41942, 37.77493], 'type': 'point'}}\n",
      "\n",
      "{'country': 'United States', 'country_code': 'US', 'region': 'New York', 'full_name': 'New York, United States', 'geo': {'coordinates': [-75.4999, 43.00035], 'type': 'point'}}\n",
      "\n",
      "{'country': 'United States', 'country_code': 'US', 'locality': 'San Francisco', 'region': 'California', 'sub_region': 'San Francisco County', 'full_name': 'San Francisco, California, United States', 'geo': {'coordinates': [-122.41942, 37.77493], 'type': 'point'}}\n",
      "\n",
      "{'country': 'United States', 'country_code': 'US', 'locality': 'Fort Worth', 'region': 'Texas', 'sub_region': 'Tarrant County', 'full_name': 'Fort Worth, Texas, United States', 'geo': {'coordinates': [-97.32085, 32.72541], 'type': 'point'}}\n",
      "\n",
      "{'country': 'United States', 'country_code': 'US', 'locality': 'Brooklyn', 'region': 'New York', 'sub_region': 'Kings County', 'full_name': 'Brooklyn, New York, United States', 'geo': {'coordinates': [-73.94958, 40.6501], 'type': 'point'}}\n",
      "\n",
      "{'country': 'United States', 'country_code': 'US', 'region': 'New York', 'full_name': 'New York, United States', 'geo': {'coordinates': [-75.4999, 43.00035], 'type': 'point'}}\n",
      "\n",
      "{'country': 'United States', 'country_code': 'US', 'locality': 'Detroit', 'region': 'Michigan', 'sub_region': 'Wayne County', 'full_name': 'Detroit, Michigan, United States', 'geo': {'coordinates': [-83.04575, 42.33143], 'type': 'point'}}\n",
      "\n",
      "{'country': 'United States', 'country_code': 'US', 'locality': 'San Francisco', 'region': 'California', 'sub_region': 'San Francisco County', 'full_name': 'San Francisco, California, United States', 'geo': {'coordinates': [-122.41942, 37.77493], 'type': 'point'}}\n",
      "\n",
      "{'country': 'United States', 'country_code': 'US', 'locality': 'Oakland', 'region': 'California', 'sub_region': 'Alameda County', 'full_name': 'Oakland, California, United States', 'geo': {'coordinates': [-122.2708, 37.80437], 'type': 'point'}}\n",
      "\n",
      "{'country': 'United States', 'country_code': 'US', 'locality': 'Miami', 'region': 'Florida', 'sub_region': 'Miami-Dade County', 'full_name': 'Miami, Florida, United States', 'geo': {'coordinates': [-80.19366, 25.77427], 'type': 'point'}}\n",
      "\n",
      "{'country': 'United States', 'country_code': 'US', 'locality': 'Mountain View', 'region': 'California', 'sub_region': 'Santa Clara County', 'full_name': 'Mountain View, California, United States', 'geo': {'coordinates': [-122.08385, 37.38605], 'type': 'point'}}\n",
      "\n",
      "{'country': 'United States', 'country_code': 'US', 'locality': 'San Diego', 'region': 'California', 'sub_region': 'San Diego County', 'full_name': 'San Diego, California, United States', 'geo': {'coordinates': [-117.15726, 32.71533], 'type': 'point'}}\n",
      "\n",
      "{'country': 'United States', 'country_code': 'US', 'locality': 'San Francisco', 'region': 'California', 'sub_region': 'San Francisco County', 'full_name': 'San Francisco, California, United States', 'geo': {'coordinates': [-122.41942, 37.77493], 'type': 'point'}}\n",
      "\n",
      "{'country': 'United States', 'country_code': 'US', 'locality': 'Burbank', 'region': 'California', 'sub_region': 'Los Angeles County', 'full_name': 'Burbank, California, United States', 'geo': {'coordinates': [-118.30897, 34.18084], 'type': 'point'}}\n",
      "\n",
      "{'country': 'United States', 'country_code': 'US', 'locality': 'Charlotte', 'region': 'North Carolina', 'sub_region': 'Mecklenburg County', 'full_name': 'Charlotte, North Carolina, United States', 'geo': {'coordinates': [-80.84313, 35.22709], 'type': 'point'}}\n",
      "\n",
      "{'country': 'United States', 'country_code': 'US', 'locality': 'Nashville', 'region': 'Tennessee', 'sub_region': 'Davidson County', 'full_name': 'Nashville, Tennessee, United States', 'geo': {'coordinates': [-86.78444, 36.16589], 'type': 'point'}}\n",
      "\n",
      "{'country': 'United States', 'country_code': 'US', 'locality': 'Seattle', 'region': 'Washington', 'sub_region': 'King County', 'full_name': 'Seattle, Washington, United States', 'geo': {'coordinates': [-122.33207, 47.60621], 'type': 'point'}}\n",
      "\n",
      "{'country': 'United States', 'country_code': 'US', 'region': 'New York', 'full_name': 'New York, United States', 'geo': {'coordinates': [-75.4999, 43.00035], 'type': 'point'}}\n",
      "\n",
      "{'country': 'United States', 'country_code': 'US', 'locality': 'Washington, D. C.', 'region': 'Washington, D.C.', 'full_name': 'Washington, D. C., Washington, D.C., United States', 'geo': {'coordinates': [-77.03637, 38.89511], 'type': 'point'}}\n",
      "\n",
      "{'country': 'United States', 'country_code': 'US', 'region': 'North Carolina', 'full_name': 'North Carolina, United States', 'geo': {'coordinates': [-80.00032, 35.50069], 'type': 'point'}}\n",
      "\n",
      "{'country': 'United States', 'country_code': 'US', 'locality': 'Delray Beach', 'region': 'Florida', 'sub_region': 'Palm Beach County', 'full_name': 'Delray Beach, Florida, United States', 'geo': {'coordinates': [-80.07282, 26.46146], 'type': 'point'}}\n",
      "\n",
      "{'country': 'United States', 'country_code': 'US', 'locality': 'Dana Point', 'region': 'California', 'sub_region': 'Orange County', 'full_name': 'Dana Point, California, United States', 'geo': {'coordinates': [-117.69811, 33.46697], 'type': 'point'}}\n",
      "\n",
      "{'country': 'United States', 'country_code': 'US', 'locality': 'Miami', 'region': 'Florida', 'sub_region': 'Miami-Dade County', 'full_name': 'Miami, Florida, United States', 'geo': {'coordinates': [-80.19366, 25.77427], 'type': 'point'}}\n",
      "\n",
      "{'country': 'United States', 'country_code': 'US', 'locality': 'San Francisco', 'region': 'California', 'sub_region': 'San Francisco County', 'full_name': 'San Francisco, California, United States', 'geo': {'coordinates': [-122.41942, 37.77493], 'type': 'point'}}\n",
      "\n",
      "{'country': 'United States', 'country_code': 'US', 'locality': 'Temple Terrace', 'region': 'Florida', 'sub_region': 'Hillsborough County', 'full_name': 'Temple Terrace, Florida, United States', 'geo': {'coordinates': [-82.38926, 28.0353], 'type': 'point'}}\n",
      "\n",
      "{'country': 'United States', 'country_code': 'US', 'locality': 'Seattle', 'region': 'Washington', 'sub_region': 'King County', 'full_name': 'Seattle, Washington, United States', 'geo': {'coordinates': [-122.33207, 47.60621], 'type': 'point'}}\n",
      "\n",
      "{'country': 'United States', 'country_code': 'US', 'locality': 'Seattle', 'region': 'Washington', 'sub_region': 'King County', 'full_name': 'Seattle, Washington, United States', 'geo': {'coordinates': [-122.33207, 47.60621], 'type': 'point'}}\n",
      "\n",
      "{'country': 'United States', 'country_code': 'US', 'region': 'New York', 'full_name': 'New York, United States', 'geo': {'coordinates': [-75.4999, 43.00035], 'type': 'point'}}\n",
      "\n",
      "{'country': 'United States', 'country_code': 'US', 'locality': 'San Francisco', 'region': 'California', 'sub_region': 'San Francisco County', 'full_name': 'San Francisco, California, United States', 'geo': {'coordinates': [-122.41942, 37.77493], 'type': 'point'}}\n",
      "\n",
      "{'country': 'United States', 'country_code': 'US', 'locality': 'Ridgefield Park', 'region': 'New Jersey', 'sub_region': 'Bergen County', 'full_name': 'Ridgefield Park, New Jersey, United States', 'geo': {'coordinates': [-74.02153, 40.85704], 'type': 'point'}}\n",
      "\n",
      "{'country': 'United States', 'country_code': 'US', 'locality': 'Boston', 'region': 'Massachusetts', 'sub_region': 'Suffolk County', 'full_name': 'Boston, Massachusetts, United States', 'geo': {'coordinates': [-71.05977, 42.35843], 'type': 'point'}}\n",
      "\n",
      "{'country': 'United States', 'country_code': 'US', 'locality': 'Los Angeles', 'region': 'California', 'sub_region': 'Los Angeles County', 'full_name': 'Los Angeles, California, United States', 'geo': {'coordinates': [-118.24368, 34.05223], 'type': 'point'}}\n",
      "\n",
      "{'country': 'United States', 'country_code': 'US', 'locality': 'Coos Bay', 'region': 'Oregon', 'sub_region': 'Coos County', 'full_name': 'Coos Bay, Oregon, United States', 'geo': {'coordinates': [-124.21789, 43.3665], 'type': 'point'}}\n",
      "\n",
      "{'country': 'United States', 'country_code': 'US', 'region': 'California', 'full_name': 'California, United States', 'geo': {'coordinates': [-119.75126, 37.25022], 'type': 'point'}}\n",
      "\n",
      "{'country': 'United States', 'country_code': 'US', 'locality': 'Houston', 'region': 'Texas', 'sub_region': 'Harris County', 'full_name': 'Houston, Texas, United States', 'geo': {'coordinates': [-95.36327, 29.76328], 'type': 'point'}}\n",
      "\n",
      "{'country': 'United States', 'country_code': 'US', 'region': 'Delaware', 'full_name': 'Delaware, United States', 'geo': {'coordinates': [-75.49992, 39.00039], 'type': 'point'}}\n",
      "\n",
      "{'country': 'United States', 'country_code': 'US', 'locality': 'Marina del Rey', 'region': 'California', 'sub_region': 'Los Angeles County', 'full_name': 'Marina del Rey, California, United States', 'geo': {'coordinates': [-118.45174, 33.98029], 'type': 'point'}}\n",
      "\n",
      "{'country': 'United States', 'country_code': 'US', 'locality': 'Raleigh', 'region': 'North Carolina', 'sub_region': 'Wake County', 'full_name': 'Raleigh, North Carolina, United States', 'geo': {'coordinates': [-78.63861, 35.7721], 'type': 'point'}}\n",
      "\n",
      "{'country': 'United States', 'country_code': 'US', 'locality': 'San Francisco', 'region': 'California', 'sub_region': 'San Francisco County', 'full_name': 'San Francisco, California, United States', 'geo': {'coordinates': [-122.41942, 37.77493], 'type': 'point'}}\n",
      "\n",
      "{'country': 'United States', 'country_code': 'US', 'locality': 'Brooklyn', 'region': 'New York', 'sub_region': 'Kings County', 'full_name': 'Brooklyn, New York, United States', 'geo': {'coordinates': [-73.94958, 40.6501], 'type': 'point'}}\n",
      "\n",
      "{'country': 'United States', 'country_code': 'US', 'locality': 'Oakland', 'region': 'California', 'sub_region': 'Alameda County', 'full_name': 'Oakland, California, United States', 'geo': {'coordinates': [-122.2708, 37.80437], 'type': 'point'}}\n",
      "\n",
      "{'country': 'United States', 'country_code': 'US', 'locality': 'Portland', 'region': 'Oregon', 'sub_region': 'Multnomah County', 'full_name': 'Portland, Oregon, United States', 'geo': {'coordinates': [-122.67621, 45.52345], 'type': 'point'}}\n",
      "\n",
      "{'country': 'United States', 'country_code': 'US', 'locality': 'Boston', 'region': 'Massachusetts', 'sub_region': 'Suffolk County', 'full_name': 'Boston, Massachusetts, United States', 'geo': {'coordinates': [-71.05977, 42.35843], 'type': 'point'}}\n",
      "\n",
      "{'country': 'United States', 'country_code': 'US', 'locality': 'Los Angeles', 'region': 'California', 'sub_region': 'Los Angeles County', 'full_name': 'Los Angeles, California, United States', 'geo': {'coordinates': [-118.24368, 34.05223], 'type': 'point'}}\n",
      "\n"
     ]
    }
   ],
   "source": [
    "[print(tweet.profile_location, end='\\n\\n') for tweet in tweets[0:50]];\n"
   ]
  },
  {
   "cell_type": "code",
   "execution_count": 66,
   "metadata": {},
   "outputs": [
    {
     "name": "stdout",
     "output_type": "stream",
     "text": [
      "Teramind's #employeemonitoring software has received the @Crozdesk Trusted Vendor badge, an honor given to only 20% of the solutions ever featured on this user-review site! https://t.co/cBlVKxOLXu #userreviews #techreviews #WFH #remotework #insiderthreats #security #productivity\n",
      "\n",
      "I think one thing I’m really good at is creating boundaries at work. Once 5/6pm hits, I respond to nothing until the next day. WFH or not, I’m not spending all day working tf\n",
      "\n",
      "@oknotsomuch And I am the maximal WFH defender\n",
      "\n",
      "@oknotsomuch yeah this has been my reaction to all the WFH stuff too, I genuinely feel for parents who have to juggle in this situation.\n",
      "\n",
      "AZ is set to open this weekend. I’m not happy about that at all. \n",
      "\n",
      "It’s only suggested that accommodations be made for vulnerable populations so I guess I just hope my employer is understanding of my heart issues and lets me WFH or I have to make some tough choices.\n",
      "\n",
      "Article: “There are so many changes going on in the network, SD-WAN has to evolve,” &gt;&gt; We would like to suggest an alternative to SD-WAN - The NetFoundry Network Platform addresses all of these challenges today! https://t.co/IgfrwH8D3F  #SDWAN #NaaS #network #zerotrust #sase #WFH https://t.co/9pif5F9RRT\n",
      "\n",
      "@JuanArreguin @SlackHQ It is. Kinda a BFD when WFH &gt;_&lt;\n",
      "\n",
      "@2AvSagas My gut feeling is that a lot more employers will be amenable to regular WFH (once a week, say), but it won’t be the default for the vast majority of office workers.\n",
      "\n",
      "Slack is down and we all are WFH. In this economy, I believe this means we will hit new all time highs in the market tomorrow.\n",
      "\n",
      "In case you need a new background for your next video call 💻 #acltv #wfh https://t.co/RkrJHtiadn\n",
      "\n",
      "Something to put on your F(ollow) list: #Twitter announcing the option of remote work forever. This will be something to watch in the coming months. #WFH #WorkFromHome\n",
      "\n",
      "@burgessdryan @JemYoung Same here! I think WFH as an option when needed is great, or even 1-2 days a week, but I miss the office too!\n",
      "\n",
      "Note to non-librarians who follow me: the ALA speaks for *libraries* not library workers. That means managers, administrators, and funders think we should open for the PR (while they wfh), but they have not bothered to ask actual workers how they feel about dying for the cause. https://t.co/mG2IobO7eD\n",
      "\n",
      "Permanent #WFH for @Twitter forever! Who's next? @Google @Facebook @Apple @netflix \n",
      "\n",
      "https://t.co/FKNNPnTFZh\n",
      "\n",
      "@stefanlasiewski Phew!  I see that https://t.co/rMXSrDWaPK now confirms that I am not insane.\n",
      "\n",
      "Suddenly WFH got real serious.  I must start sending single-sentence emails to large swaths of NERSC to feel normal.\n",
      "\n"
     ]
    }
   ],
   "source": [
    "[print(tweet.all_text, end='\\n\\n') for tweet in tweets[0:15]];\n"
   ]
  },
  {
   "cell_type": "code",
   "execution_count": 46,
   "metadata": {},
   "outputs": [
    {
     "name": "stderr",
     "output_type": "stream",
     "text": [
      "HTTP Error code: 422: {\"error\":{\"message\":\"There were errors processing your request: Height of bounding_box must be less than 25 miles (at position 13), Width of bounding_box must be less than 25 miles (at position 13)\",\"sent\":\"2020-05-26T05:49:21+00:00\",\"transactionId\":\"0044b12b00a1fe32\"}}\n",
      "Request payload: {'query': 'wfh lang:en bounding_box:[-125 25 -65 48]', 'maxResults': 500, 'toDate': '202005222359', 'fromDate': '202005220000'}\n"
     ]
    },
    {
     "name": "stdout",
     "output_type": "stream",
     "text": [
      "ResultStream: \n",
      "\t{\n",
      "    \"username\":null,\n",
      "    \"endpoint\":\"https:\\/\\/api.twitter.com\\/1.1\\/tweets\\/search\\/30day\\/covidwfh.json\",\n",
      "    \"rule_payload\":{\n",
      "        \"query\":\"wfh lang:en bounding_box:[-125 25 -65 48]\",\n",
      "        \"maxResults\":500,\n",
      "        \"toDate\":\"202005222359\",\n",
      "        \"fromDate\":\"202005220000\"\n",
      "    },\n",
      "    \"tweetify\":true,\n",
      "    \"max_results\":500\n",
      "}\n"
     ]
    },
    {
     "ename": "HTTPError",
     "evalue": "",
     "output_type": "error",
     "traceback": [
      "\u001b[0;31m---------------------------------------------------------------------------\u001b[0m",
      "\u001b[0;31mHTTPError\u001b[0m                                 Traceback (most recent call last)",
      "\u001b[0;32m<ipython-input-46-a5154183138a>\u001b[0m in \u001b[0;36m<module>\u001b[0;34m\u001b[0m\n\u001b[1;32m      8\u001b[0m \u001b[0;32mwith\u001b[0m \u001b[0mopen\u001b[0m\u001b[0;34m(\u001b[0m\u001b[0mFILENAME\u001b[0m\u001b[0;34m,\u001b[0m \u001b[0;34m'a'\u001b[0m\u001b[0;34m,\u001b[0m \u001b[0mencoding\u001b[0m\u001b[0;34m=\u001b[0m\u001b[0;34m'utf-8'\u001b[0m\u001b[0;34m)\u001b[0m \u001b[0;32mas\u001b[0m \u001b[0mf\u001b[0m\u001b[0;34m:\u001b[0m\u001b[0;34m\u001b[0m\u001b[0;34m\u001b[0m\u001b[0m\n\u001b[1;32m      9\u001b[0m     \u001b[0mn\u001b[0m \u001b[0;34m=\u001b[0m \u001b[0;36m0\u001b[0m\u001b[0;34m\u001b[0m\u001b[0;34m\u001b[0m\u001b[0m\n\u001b[0;32m---> 10\u001b[0;31m     \u001b[0;32mfor\u001b[0m \u001b[0mtweet\u001b[0m \u001b[0;32min\u001b[0m \u001b[0mrs\u001b[0m\u001b[0;34m.\u001b[0m\u001b[0mstream\u001b[0m\u001b[0;34m(\u001b[0m\u001b[0;34m)\u001b[0m\u001b[0;34m:\u001b[0m\u001b[0;34m\u001b[0m\u001b[0;34m\u001b[0m\u001b[0m\n\u001b[0m\u001b[1;32m     11\u001b[0m         \u001b[0mn\u001b[0m \u001b[0;34m+=\u001b[0m \u001b[0;36m1\u001b[0m\u001b[0;34m\u001b[0m\u001b[0;34m\u001b[0m\u001b[0m\n\u001b[1;32m     12\u001b[0m         \u001b[0;32mif\u001b[0m \u001b[0mn\u001b[0m \u001b[0;34m%\u001b[0m \u001b[0mPRINT_AFTER_X\u001b[0m \u001b[0;34m==\u001b[0m \u001b[0;36m0\u001b[0m\u001b[0;34m:\u001b[0m\u001b[0;34m\u001b[0m\u001b[0;34m\u001b[0m\u001b[0m\n",
      "\u001b[0;32m/opt/anaconda2/envs/py36/lib/python3.6/site-packages/searchtweets/result_stream.py\u001b[0m in \u001b[0;36mstream\u001b[0;34m(self)\u001b[0m\n\u001b[1;32m    220\u001b[0m         \u001b[0mself\u001b[0m\u001b[0;34m.\u001b[0m\u001b[0minit_session\u001b[0m\u001b[0;34m(\u001b[0m\u001b[0;34m)\u001b[0m\u001b[0;34m\u001b[0m\u001b[0;34m\u001b[0m\u001b[0m\n\u001b[1;32m    221\u001b[0m         \u001b[0mself\u001b[0m\u001b[0;34m.\u001b[0m\u001b[0mcheck_counts\u001b[0m\u001b[0;34m(\u001b[0m\u001b[0;34m)\u001b[0m\u001b[0;34m\u001b[0m\u001b[0;34m\u001b[0m\u001b[0m\n\u001b[0;32m--> 222\u001b[0;31m         \u001b[0mself\u001b[0m\u001b[0;34m.\u001b[0m\u001b[0mexecute_request\u001b[0m\u001b[0;34m(\u001b[0m\u001b[0;34m)\u001b[0m\u001b[0;34m\u001b[0m\u001b[0;34m\u001b[0m\u001b[0m\n\u001b[0m\u001b[1;32m    223\u001b[0m         \u001b[0mself\u001b[0m\u001b[0;34m.\u001b[0m\u001b[0mstream_started\u001b[0m \u001b[0;34m=\u001b[0m \u001b[0;32mTrue\u001b[0m\u001b[0;34m\u001b[0m\u001b[0;34m\u001b[0m\u001b[0m\n\u001b[1;32m    224\u001b[0m         \u001b[0;32mwhile\u001b[0m \u001b[0;32mTrue\u001b[0m\u001b[0;34m:\u001b[0m\u001b[0;34m\u001b[0m\u001b[0;34m\u001b[0m\u001b[0m\n",
      "\u001b[0;32m/opt/anaconda2/envs/py36/lib/python3.6/site-packages/searchtweets/result_stream.py\u001b[0m in \u001b[0;36mexecute_request\u001b[0;34m(self)\u001b[0m\n\u001b[1;32m    272\u001b[0m         resp = request(session=self.session,\n\u001b[1;32m    273\u001b[0m                        \u001b[0murl\u001b[0m\u001b[0;34m=\u001b[0m\u001b[0mself\u001b[0m\u001b[0;34m.\u001b[0m\u001b[0mendpoint\u001b[0m\u001b[0;34m,\u001b[0m\u001b[0;34m\u001b[0m\u001b[0;34m\u001b[0m\u001b[0m\n\u001b[0;32m--> 274\u001b[0;31m                        rule_payload=self.rule_payload)\n\u001b[0m\u001b[1;32m    275\u001b[0m         \u001b[0mself\u001b[0m\u001b[0;34m.\u001b[0m\u001b[0mn_requests\u001b[0m \u001b[0;34m+=\u001b[0m \u001b[0;36m1\u001b[0m\u001b[0;34m\u001b[0m\u001b[0;34m\u001b[0m\u001b[0m\n\u001b[1;32m    276\u001b[0m         \u001b[0mResultStream\u001b[0m\u001b[0;34m.\u001b[0m\u001b[0msession_request_counter\u001b[0m \u001b[0;34m+=\u001b[0m \u001b[0;36m1\u001b[0m\u001b[0;34m\u001b[0m\u001b[0;34m\u001b[0m\u001b[0m\n",
      "\u001b[0;32m/opt/anaconda2/envs/py36/lib/python3.6/site-packages/searchtweets/result_stream.py\u001b[0m in \u001b[0;36mretried_func\u001b[0;34m(*args, **kwargs)\u001b[0m\n\u001b[1;32m    108\u001b[0m                 \u001b[0;32melse\u001b[0m\u001b[0;34m:\u001b[0m\u001b[0;34m\u001b[0m\u001b[0;34m\u001b[0m\u001b[0m\n\u001b[1;32m    109\u001b[0m                     \u001b[0;31m#Other errors are a \"one and done\", no use in retrying error...\u001b[0m\u001b[0;34m\u001b[0m\u001b[0;34m\u001b[0m\u001b[0;34m\u001b[0m\u001b[0m\n\u001b[0;32m--> 110\u001b[0;31m                     \u001b[0;32mraise\u001b[0m \u001b[0mrequests\u001b[0m\u001b[0;34m.\u001b[0m\u001b[0mexceptions\u001b[0m\u001b[0;34m.\u001b[0m\u001b[0mHTTPError\u001b[0m\u001b[0;34m\u001b[0m\u001b[0;34m\u001b[0m\u001b[0m\n\u001b[0m\u001b[1;32m    111\u001b[0m \u001b[0;34m\u001b[0m\u001b[0m\n\u001b[1;32m    112\u001b[0m                 \u001b[0;31m# mini exponential backoff here.\u001b[0m\u001b[0;34m\u001b[0m\u001b[0;34m\u001b[0m\u001b[0;34m\u001b[0m\u001b[0m\n",
      "\u001b[0;31mHTTPError\u001b[0m: "
     ]
    }
   ],
   "source": [
    "from searchtweets import ResultStream\n",
    "\n",
    "rs = ResultStream(rule_payload=rule,\n",
    "                  max_results=500,\n",
    "                  **premium_search_args)\n",
    "print(rs)\n",
    "\n",
    "with open(FILENAME, 'a', encoding='utf-8') as f:\n",
    "    n = 0\n",
    "    for tweet in rs.stream():\n",
    "        n += 1\n",
    "        if n % PRINT_AFTER_X == 0:\n",
    "            print('{0}: {1}'.format(str(n), tweet['created_at']))\n",
    "        json.dump(tweet, f)\n",
    "        f.write('\\n')\n",
    "print('done')"
   ]
  },
  {
   "cell_type": "code",
   "execution_count": null,
   "metadata": {},
   "outputs": [],
   "source": []
  },
  {
   "cell_type": "code",
   "execution_count": null,
   "metadata": {},
   "outputs": [],
   "source": []
  },
  {
   "cell_type": "code",
   "execution_count": null,
   "metadata": {},
   "outputs": [],
   "source": []
  },
  {
   "cell_type": "code",
   "execution_count": null,
   "metadata": {},
   "outputs": [],
   "source": []
  },
  {
   "cell_type": "code",
   "execution_count": null,
   "metadata": {},
   "outputs": [],
   "source": []
  },
  {
   "cell_type": "code",
   "execution_count": null,
   "metadata": {},
   "outputs": [],
   "source": []
  },
  {
   "cell_type": "code",
   "execution_count": null,
   "metadata": {},
   "outputs": [],
   "source": []
  },
  {
   "cell_type": "code",
   "execution_count": 20,
   "metadata": {},
   "outputs": [
    {
     "name": "stdout",
     "output_type": "stream",
     "text": [
      "done\n"
     ]
    }
   ],
   "source": [
    "rs = ResultStream(rule_payload=rule,\n",
    "                  max_results=MAX_RESULTS,\n",
    "                  **premium_search_args)\n",
    "\n"
   ]
  },
  {
   "cell_type": "code",
   "execution_count": null,
   "metadata": {},
   "outputs": [],
   "source": []
  },
  {
   "cell_type": "code",
   "execution_count": null,
   "metadata": {},
   "outputs": [],
   "source": []
  },
  {
   "cell_type": "code",
   "execution_count": null,
   "metadata": {},
   "outputs": [],
   "source": []
  },
  {
   "cell_type": "code",
   "execution_count": null,
   "metadata": {},
   "outputs": [],
   "source": []
  },
  {
   "cell_type": "code",
   "execution_count": null,
   "metadata": {},
   "outputs": [],
   "source": []
  },
  {
   "cell_type": "code",
   "execution_count": null,
   "metadata": {},
   "outputs": [],
   "source": []
  }
 ],
 "metadata": {
  "kernelspec": {
   "display_name": "py36",
   "language": "python",
   "name": "py36"
  },
  "language_info": {
   "codemirror_mode": {
    "name": "ipython",
    "version": 3
   },
   "file_extension": ".py",
   "mimetype": "text/x-python",
   "name": "python",
   "nbconvert_exporter": "python",
   "pygments_lexer": "ipython3",
   "version": "3.6.10"
  }
 },
 "nbformat": 4,
 "nbformat_minor": 2
}
