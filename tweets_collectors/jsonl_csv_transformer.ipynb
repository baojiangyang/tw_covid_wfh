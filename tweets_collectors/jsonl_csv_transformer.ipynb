{
 "cells": [
  {
   "cell_type": "code",
   "execution_count": 2,
   "metadata": {},
   "outputs": [],
   "source": [
    "import json_lines\n",
    "\n",
    "def load_jsonl(file):\n",
    "    tweets = []\n",
    "    with open(file, 'rb') as f:\n",
    "        for tweet in json_lines.reader(f, broken=True):\n",
    "            tweets.append(tweet)\n",
    "    return (tweets)\n",
    "\n",
    "tweets = load_jsonl('twitter_premium_api_demo.jsonl')"
   ]
  },
  {
   "cell_type": "code",
   "execution_count": 8,
   "metadata": {},
   "outputs": [
    {
     "name": "stdout",
     "output_type": "stream",
     "text": [
      "{'created_at': 'Fri May 22 23:58:32 +0000 2020', 'id': 1263982608205086729, 'id_str': '1263982608205086729', 'text': '@cbeckpdx @necrobuffalo PagerDuty is hiring for a bunch of engineering roles — where you see “San Francisco” think… https://t.co/aAar003IoJ', 'display_text_range': [24, 140], 'source': '<a href=\"https://tapbots.com/software/tweetbot/mac\" rel=\"nofollow\">Tweetbot for Mac</a>', 'truncated': True, 'in_reply_to_status_id': 1263949196417093632, 'in_reply_to_status_id_str': '1263949196417093632', 'in_reply_to_user_id': 91407496, 'in_reply_to_user_id_str': '91407496', 'in_reply_to_screen_name': 'cbeckpdx', 'user': {'id': 2352121, 'id_str': '2352121', 'name': 'rich lafferty, contributing factor', 'screen_name': 'mendel', 'location': 'Toronto, Ontario', 'url': 'http://www.lafferty.ca/', 'description': 'SRE@PagerDuty. Geek, Buddhist, husband, introvert, devop, social justice worrier, musician, vegetarian, urbanist. He/him. May all beings be free from suffering.', 'translator_type': 'none', 'derived': {'locations': [{'country': 'Canada', 'country_code': 'CA', 'locality': 'Toronto', 'region': 'Ontario', 'full_name': 'Toronto, Ontario, Canada', 'geo': {'coordinates': [-79.4163, 43.70011], 'type': 'point'}}]}, 'protected': False, 'verified': False, 'followers_count': 1329, 'friends_count': 741, 'listed_count': 99, 'favourites_count': 14535, 'statuses_count': 49572, 'created_at': 'Mon Mar 26 20:16:01 +0000 2007', 'utc_offset': None, 'time_zone': None, 'geo_enabled': True, 'lang': None, 'contributors_enabled': False, 'is_translator': False, 'profile_background_color': 'C9C9C9', 'profile_background_image_url': 'http://abs.twimg.com/images/themes/theme1/bg.png', 'profile_background_image_url_https': 'https://abs.twimg.com/images/themes/theme1/bg.png', 'profile_background_tile': True, 'profile_link_color': 'DA1074', 'profile_sidebar_border_color': 'FFFFFF', 'profile_sidebar_fill_color': 'CDCDCD', 'profile_text_color': '282828', 'profile_use_background_image': True, 'profile_image_url': 'http://pbs.twimg.com/profile_images/1256448543985983491/32r37-CI_normal.jpg', 'profile_image_url_https': 'https://pbs.twimg.com/profile_images/1256448543985983491/32r37-CI_normal.jpg', 'profile_banner_url': 'https://pbs.twimg.com/profile_banners/2352121/1402884319', 'default_profile': False, 'default_profile_image': False, 'following': None, 'follow_request_sent': None, 'notifications': None}, 'geo': None, 'coordinates': None, 'place': {'id': '0147bed6634faef7', 'url': 'https://api.twitter.com/1.1/geo/id/0147bed6634faef7.json', 'place_type': 'neighborhood', 'name': 'Junction Area', 'full_name': 'Junction Area, Toronto', 'country_code': 'CA', 'country': 'Canada', 'bounding_box': {'type': 'Polygon', 'coordinates': [[[-79.483543, 43.660057], [-79.483543, 43.676338], [-79.455955, 43.676338], [-79.455955, 43.660057]]]}, 'attributes': {}}, 'contributors': None, 'is_quote_status': False, 'extended_tweet': {'full_text': '@cbeckpdx @necrobuffalo PagerDuty is hiring for a bunch of engineering roles — where you see “San Francisco” think “Pacific time”, we’re a v. distributed company to begin with and doubly so now that it’s all wfh for a while yet!\\n\\nWe’re an Elixir shop with some Ruby and Scala.\\n\\nhttps://t.co/RzMyh5pqcc', 'display_text_range': [24, 301], 'entities': {'hashtags': [], 'urls': [{'url': 'https://t.co/RzMyh5pqcc', 'expanded_url': 'https://www.pagerduty.com/careers/', 'display_url': 'pagerduty.com/careers/', 'unwound': {'url': 'https://www.pagerduty.com/careers/', 'status': 200, 'title': 'Careers | Join The Team | PagerDuty', 'description': \"What's it like to work at PagerDuty? See open positions across the world and get started on building your careers with us.\"}, 'indices': [278, 301]}], 'user_mentions': [{'screen_name': 'cbeckpdx', 'name': 'Employable Software Person', 'id': 91407496, 'id_str': '91407496', 'indices': [0, 9]}, {'screen_name': 'necrobuffalo', 'name': 'Adam Barber', 'id': 740053845099696128, 'id_str': '740053845099696128', 'indices': [10, 23]}], 'symbols': []}}, 'quote_count': 0, 'reply_count': 0, 'retweet_count': 0, 'favorite_count': 1, 'entities': {'hashtags': [], 'urls': [{'url': 'https://t.co/aAar003IoJ', 'expanded_url': 'https://twitter.com/i/web/status/1263982608205086729', 'display_url': 'twitter.com/i/web/status/1…', 'indices': [116, 139]}], 'user_mentions': [{'screen_name': 'cbeckpdx', 'name': 'Employable Software Person', 'id': 91407496, 'id_str': '91407496', 'indices': [0, 9]}, {'screen_name': 'necrobuffalo', 'name': 'Adam Barber', 'id': 740053845099696128, 'id_str': '740053845099696128', 'indices': [10, 23]}], 'symbols': []}, 'favorited': False, 'retweeted': False, 'possibly_sensitive': False, 'filter_level': 'low', 'lang': 'en', 'matching_rules': [{'tag': None}]}\n"
     ]
    }
   ],
   "source": [
    "print(tweets[0])"
   ]
  },
  {
   "cell_type": "code",
   "execution_count": 36,
   "metadata": {},
   "outputs": [
    {
     "data": {
      "text/plain": [
       "[{'country': 'Canada',\n",
       "  'country_code': 'CA',\n",
       "  'locality': 'Toronto',\n",
       "  'region': 'Ontario',\n",
       "  'full_name': 'Toronto, Ontario, Canada',\n",
       "  'geo': {'coordinates': [-79.4163, 43.70011], 'type': 'point'}}]"
      ]
     },
     "execution_count": 36,
     "metadata": {},
     "output_type": "execute_result"
    }
   ],
   "source": [
    "tweets[0]['user']['derived']['locations']"
   ]
  },
  {
   "cell_type": "code",
   "execution_count": 27,
   "metadata": {},
   "outputs": [
    {
     "data": {
      "text/plain": [
       "list"
      ]
     },
     "execution_count": 27,
     "metadata": {},
     "output_type": "execute_result"
    }
   ],
   "source": [
    "type(tweets)"
   ]
  },
  {
   "cell_type": "code",
   "execution_count": 35,
   "metadata": {},
   "outputs": [],
   "source": [
    "outtweets = [[tweet['created_at'] \n",
    "            , tweet['id_str']\n",
    "            , tweet['user']['id_str']\n",
    "            , tweet['user']['name']\n",
    "            , tweet['user']['screen_name']\n",
    "            , tweet['text']\n",
    "            #, tweet['user']['derived']['locations']['country']\n",
    "            #, tweet['user']['derived']['locations']['country_code']\n",
    "            #, tweet['user']['derived']['locations']['locality']\n",
    "            #, tweet['user']['derived']['locations']['region']\n",
    "            , tweet['user']['followers_count']\n",
    "            , tweet['user']['friends_count']\n",
    "            , tweet['user']['listed_count']\n",
    "            , tweet['user']['favourites_count']\n",
    "            , tweet['user']['statuses_count']\n",
    "            , tweet['user']['created_at']\n",
    "            , tweet['retweeted']\n",
    "            , tweet['retweet_count']\n",
    "            ] for tweet in tweets]    "
   ]
  },
  {
   "cell_type": "code",
   "execution_count": 42,
   "metadata": {},
   "outputs": [],
   "source": [
    "outtweets = []\n",
    "for tweet in tweets:\n",
    "    tw = [tweet['created_at'] \n",
    "            , tweet['id_str']\n",
    "            , tweet['user']['id_str']\n",
    "            , tweet['user']['name']\n",
    "            , tweet['user']['screen_name']\n",
    "            , tweet['text']\n",
    "            #, tweet['user']['derived']['locations']['country']\n",
    "            #, tweet['user']['derived']['locations']['country_code']\n",
    "            #, tweet['user']['derived']['locations']['locality']\n",
    "            #, tweet['user']['derived']['locations']['region']\n",
    "            , tweet['user']['followers_count']\n",
    "            , tweet['user']['friends_count']\n",
    "            , tweet['user']['listed_count']\n",
    "            , tweet['user']['favourites_count']\n",
    "            , tweet['user']['statuses_count']\n",
    "            , tweet['user']['created_at']\n",
    "            , tweet['retweeted']\n",
    "            , tweet['retweet_count']\n",
    "         ]\n",
    "    location_info = ['na','na','na','na']\n",
    "    if 'derived' in tweet['user']:\n",
    "        if 'locations' in tweet['user']['derived']:\n",
    "            if 'region' in tweet['user']['derived']['locations']:\n",
    "                location_info = [tweet['user']['derived']['locations']['country']\n",
    "                                 , tweet['user']['derived']['locations']['country_code']\n",
    "                                 , tweet['user']['derived']['locations']['locality']\n",
    "                                 , tweet['user']['derived']['locations']['region']\n",
    "                                ]\n",
    "    tw.extend(location_info)\n",
    "    outtweets.append(tw)\n",
    "    \n",
    "    "
   ]
  },
  {
   "cell_type": "code",
   "execution_count": 43,
   "metadata": {},
   "outputs": [
    {
     "data": {
      "text/plain": [
       "['Fri May 22 23:58:32 +0000 2020',\n",
       " '1263982608205086729',\n",
       " '2352121',\n",
       " 'rich lafferty, contributing factor',\n",
       " 'mendel',\n",
       " '@cbeckpdx @necrobuffalo PagerDuty is hiring for a bunch of engineering roles — where you see “San Francisco” think… https://t.co/aAar003IoJ',\n",
       " 1329,\n",
       " 741,\n",
       " 99,\n",
       " 14535,\n",
       " 49572,\n",
       " 'Mon Mar 26 20:16:01 +0000 2007',\n",
       " False,\n",
       " 0,\n",
       " 'na',\n",
       " 'na',\n",
       " 'na',\n",
       " 'na']"
      ]
     },
     "execution_count": 43,
     "metadata": {},
     "output_type": "execute_result"
    }
   ],
   "source": [
    "outtweets[0]"
   ]
  },
  {
   "cell_type": "code",
   "execution_count": 44,
   "metadata": {},
   "outputs": [],
   "source": [
    "import pandas as pd \n",
    "df_tweets  = pd.DataFrame(outtweets\n",
    "                          , columns =['ts', 'id_str','user_id','user_name','screen_name', \\\n",
    "                                      'text', 'followers_count', 'friends_count', 'listed_count', \\\n",
    "                                      'favourites_count', 'statuses_count','profile_created', \\\n",
    "                                      'retweeted','retweet_count', 'country','country_code','locality','region']) \n"
   ]
  },
  {
   "cell_type": "code",
   "execution_count": 45,
   "metadata": {},
   "outputs": [
    {
     "data": {
      "text/html": [
       "<div>\n",
       "<style scoped>\n",
       "    .dataframe tbody tr th:only-of-type {\n",
       "        vertical-align: middle;\n",
       "    }\n",
       "\n",
       "    .dataframe tbody tr th {\n",
       "        vertical-align: top;\n",
       "    }\n",
       "\n",
       "    .dataframe thead th {\n",
       "        text-align: right;\n",
       "    }\n",
       "</style>\n",
       "<table border=\"1\" class=\"dataframe\">\n",
       "  <thead>\n",
       "    <tr style=\"text-align: right;\">\n",
       "      <th></th>\n",
       "      <th>ts</th>\n",
       "      <th>id_str</th>\n",
       "      <th>user_id</th>\n",
       "      <th>user_name</th>\n",
       "      <th>screen_name</th>\n",
       "      <th>text</th>\n",
       "      <th>followers_count</th>\n",
       "      <th>friends_count</th>\n",
       "      <th>listed_count</th>\n",
       "      <th>favourites_count</th>\n",
       "      <th>statuses_count</th>\n",
       "      <th>profile_created</th>\n",
       "      <th>retweeted</th>\n",
       "      <th>retweet_count</th>\n",
       "      <th>country</th>\n",
       "      <th>country_code</th>\n",
       "      <th>locality</th>\n",
       "      <th>region</th>\n",
       "    </tr>\n",
       "  </thead>\n",
       "  <tbody>\n",
       "    <tr>\n",
       "      <th>0</th>\n",
       "      <td>Fri May 22 23:58:32 +0000 2020</td>\n",
       "      <td>1263982608205086729</td>\n",
       "      <td>2352121</td>\n",
       "      <td>rich lafferty, contributing factor</td>\n",
       "      <td>mendel</td>\n",
       "      <td>@cbeckpdx @necrobuffalo PagerDuty is hiring fo...</td>\n",
       "      <td>1329</td>\n",
       "      <td>741</td>\n",
       "      <td>99</td>\n",
       "      <td>14535</td>\n",
       "      <td>49572</td>\n",
       "      <td>Mon Mar 26 20:16:01 +0000 2007</td>\n",
       "      <td>False</td>\n",
       "      <td>0</td>\n",
       "      <td>na</td>\n",
       "      <td>na</td>\n",
       "      <td>na</td>\n",
       "      <td>na</td>\n",
       "    </tr>\n",
       "    <tr>\n",
       "      <th>1</th>\n",
       "      <td>Fri May 22 23:58:29 +0000 2020</td>\n",
       "      <td>1263982596062502912</td>\n",
       "      <td>193066074</td>\n",
       "      <td>Myron Wood</td>\n",
       "      <td>myronwood</td>\n",
       "      <td>RT @chamath: The most important implication of...</td>\n",
       "      <td>236</td>\n",
       "      <td>1128</td>\n",
       "      <td>10</td>\n",
       "      <td>9758</td>\n",
       "      <td>3811</td>\n",
       "      <td>Mon Sep 20 22:00:27 +0000 2010</td>\n",
       "      <td>False</td>\n",
       "      <td>0</td>\n",
       "      <td>na</td>\n",
       "      <td>na</td>\n",
       "      <td>na</td>\n",
       "      <td>na</td>\n",
       "    </tr>\n",
       "    <tr>\n",
       "      <th>2</th>\n",
       "      <td>Fri May 22 23:58:01 +0000 2020</td>\n",
       "      <td>1263982480182345735</td>\n",
       "      <td>465418209</td>\n",
       "      <td>Replicable Customer Attraction</td>\n",
       "      <td>ExpertMKTNG</td>\n",
       "      <td>FREE DOWNLOAD!\\nA Social Media Strategy for YO...</td>\n",
       "      <td>2999</td>\n",
       "      <td>4896</td>\n",
       "      <td>503</td>\n",
       "      <td>2</td>\n",
       "      <td>49566</td>\n",
       "      <td>Mon Jan 16 10:00:32 +0000 2012</td>\n",
       "      <td>False</td>\n",
       "      <td>0</td>\n",
       "      <td>na</td>\n",
       "      <td>na</td>\n",
       "      <td>na</td>\n",
       "      <td>na</td>\n",
       "    </tr>\n",
       "    <tr>\n",
       "      <th>3</th>\n",
       "      <td>Fri May 22 23:57:47 +0000 2020</td>\n",
       "      <td>1263982422305181697</td>\n",
       "      <td>921632992715558913</td>\n",
       "      <td>Annie Mcgeown</td>\n",
       "      <td>annie_mcgeown</td>\n",
       "      <td>@jfoster2019 @toryboypierce @DominicCumins I h...</td>\n",
       "      <td>1</td>\n",
       "      <td>82</td>\n",
       "      <td>0</td>\n",
       "      <td>86</td>\n",
       "      <td>113</td>\n",
       "      <td>Sat Oct 21 07:03:23 +0000 2017</td>\n",
       "      <td>False</td>\n",
       "      <td>0</td>\n",
       "      <td>na</td>\n",
       "      <td>na</td>\n",
       "      <td>na</td>\n",
       "      <td>na</td>\n",
       "    </tr>\n",
       "    <tr>\n",
       "      <th>4</th>\n",
       "      <td>Fri May 22 23:57:18 +0000 2020</td>\n",
       "      <td>1263982301102264325</td>\n",
       "      <td>262001381</td>\n",
       "      <td>David Irby</td>\n",
       "      <td>justherbs_</td>\n",
       "      <td>RT @celenerd: putting on your OOO notice while...</td>\n",
       "      <td>621</td>\n",
       "      <td>574</td>\n",
       "      <td>2</td>\n",
       "      <td>9036</td>\n",
       "      <td>29182</td>\n",
       "      <td>Mon Mar 07 04:04:30 +0000 2011</td>\n",
       "      <td>False</td>\n",
       "      <td>0</td>\n",
       "      <td>na</td>\n",
       "      <td>na</td>\n",
       "      <td>na</td>\n",
       "      <td>na</td>\n",
       "    </tr>\n",
       "  </tbody>\n",
       "</table>\n",
       "</div>"
      ],
      "text/plain": [
       "                               ts               id_str             user_id  \\\n",
       "0  Fri May 22 23:58:32 +0000 2020  1263982608205086729             2352121   \n",
       "1  Fri May 22 23:58:29 +0000 2020  1263982596062502912           193066074   \n",
       "2  Fri May 22 23:58:01 +0000 2020  1263982480182345735           465418209   \n",
       "3  Fri May 22 23:57:47 +0000 2020  1263982422305181697  921632992715558913   \n",
       "4  Fri May 22 23:57:18 +0000 2020  1263982301102264325           262001381   \n",
       "\n",
       "                            user_name    screen_name  \\\n",
       "0  rich lafferty, contributing factor         mendel   \n",
       "1                          Myron Wood      myronwood   \n",
       "2      Replicable Customer Attraction    ExpertMKTNG   \n",
       "3                       Annie Mcgeown  annie_mcgeown   \n",
       "4                          David Irby     justherbs_   \n",
       "\n",
       "                                                text  followers_count  \\\n",
       "0  @cbeckpdx @necrobuffalo PagerDuty is hiring fo...             1329   \n",
       "1  RT @chamath: The most important implication of...              236   \n",
       "2  FREE DOWNLOAD!\\nA Social Media Strategy for YO...             2999   \n",
       "3  @jfoster2019 @toryboypierce @DominicCumins I h...                1   \n",
       "4  RT @celenerd: putting on your OOO notice while...              621   \n",
       "\n",
       "   friends_count  listed_count  favourites_count  statuses_count  \\\n",
       "0            741            99             14535           49572   \n",
       "1           1128            10              9758            3811   \n",
       "2           4896           503                 2           49566   \n",
       "3             82             0                86             113   \n",
       "4            574             2              9036           29182   \n",
       "\n",
       "                  profile_created  retweeted  retweet_count country  \\\n",
       "0  Mon Mar 26 20:16:01 +0000 2007      False              0      na   \n",
       "1  Mon Sep 20 22:00:27 +0000 2010      False              0      na   \n",
       "2  Mon Jan 16 10:00:32 +0000 2012      False              0      na   \n",
       "3  Sat Oct 21 07:03:23 +0000 2017      False              0      na   \n",
       "4  Mon Mar 07 04:04:30 +0000 2011      False              0      na   \n",
       "\n",
       "  country_code locality region  \n",
       "0           na       na     na  \n",
       "1           na       na     na  \n",
       "2           na       na     na  \n",
       "3           na       na     na  \n",
       "4           na       na     na  "
      ]
     },
     "execution_count": 45,
     "metadata": {},
     "output_type": "execute_result"
    }
   ],
   "source": [
    "df_tweets.head(5)"
   ]
  },
  {
   "cell_type": "code",
   "execution_count": null,
   "metadata": {},
   "outputs": [],
   "source": []
  }
 ],
 "metadata": {
  "kernelspec": {
   "display_name": "py36",
   "language": "python",
   "name": "py36"
  },
  "language_info": {
   "codemirror_mode": {
    "name": "ipython",
    "version": 3
   },
   "file_extension": ".py",
   "mimetype": "text/x-python",
   "name": "python",
   "nbconvert_exporter": "python",
   "pygments_lexer": "ipython3",
   "version": "3.6.10"
  }
 },
 "nbformat": 4,
 "nbformat_minor": 2
}
